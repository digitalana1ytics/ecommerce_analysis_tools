{
 "cells": [
  {
   "cell_type": "markdown",
   "metadata": {},
   "source": [
    "# Load library"
   ]
  },
  {
   "cell_type": "code",
   "execution_count": 1,
   "metadata": {},
   "outputs": [
    {
     "name": "stderr",
     "output_type": "stream",
     "text": [
      "C:\\Users\\jiawei\\Anaconda3\\lib\\site-packages\\bokeh\\util\\deprecation.py:34: BokehDeprecationWarning:\n",
      "\n",
      "\n",
      "The bokeh.charts API has moved to a separate 'bkcharts' package.\n",
      "\n",
      "This compatibility shim will remain until Bokeh 1.0 is released.\n",
      "After that, if you want to use this API you will have to install\n",
      "the bkcharts package explicitly.\n",
      "\n",
      "\n"
     ]
    },
    {
     "data": {
      "text/html": [
       "<script>requirejs.config({paths: { 'plotly': ['https://cdn.plot.ly/plotly-latest.min']},});if(!window.Plotly) {{require(['plotly'],function(plotly) {window.Plotly=plotly;});}}</script>"
      ],
      "text/vnd.plotly.v1+html": [
       "<script>requirejs.config({paths: { 'plotly': ['https://cdn.plot.ly/plotly-latest.min']},});if(!window.Plotly) {{require(['plotly'],function(plotly) {window.Plotly=plotly;});}}</script>"
      ]
     },
     "metadata": {},
     "output_type": "display_data"
    }
   ],
   "source": [
    "### visualization\n",
    "%matplotlib inline\n",
    "import seaborn as sns\n",
    "import matplotlib.pyplot as plt\n",
    "import plotly.offline as py\n",
    "import matplotlib as mat\n",
    "from bokeh.plotting import figure\n",
    "from bokeh.io import output_notebook, show\n",
    "from bokeh.models import Range1d, LinearAxis, NumeralTickFormatter, ColumnDataSource, ranges, LabelSet, Legend, SingleIntervalTicker, LinearAxis\n",
    "from bokeh.layouts import row\n",
    "from bokeh.charts import Bar\n",
    "from bokeh.palettes import brewer\n",
    "py.init_notebook_mode(connected=True)"
   ]
  },
  {
   "cell_type": "code",
   "execution_count": 2,
   "metadata": {
    "collapsed": true
   },
   "outputs": [],
   "source": [
    "# data analysis and wrangling\n",
    "import numpy as np\n",
    "import pandas as pd\n",
    "import re\n",
    "import jieba\n",
    "from pandas.io.json import json_normalize\n",
    "from functools import partial"
   ]
  },
  {
   "cell_type": "code",
   "execution_count": 3,
   "metadata": {
    "collapsed": true
   },
   "outputs": [],
   "source": [
    "# other library\n",
    "import datetime\n",
    "import calendar"
   ]
  },
  {
   "cell_type": "code",
   "execution_count": 4,
   "metadata": {
    "collapsed": true
   },
   "outputs": [],
   "source": [
    "# ignore sys warning\n",
    "import warnings\n",
    "import os\n",
    "import glob\n",
    "warnings.filterwarnings('ignore')"
   ]
  },
  {
   "cell_type": "markdown",
   "metadata": {},
   "source": [
    "# Load Questionnaire data from API"
   ]
  },
  {
   "cell_type": "markdown",
   "metadata": {},
   "source": [
    "有些國外問卷服務網站有提供API讓你獲取問卷資料，因此我們第一步便是透過API取得所需的資訊。"
   ]
  },
  {
   "cell_type": "code",
   "execution_count": 5,
   "metadata": {
    "collapsed": true
   },
   "outputs": [],
   "source": [
    "def nps_api_1993(result=[], offset=0):\n",
    "    # Import requests package\n",
    "    import requests\n",
    "    from pprint import pprint\n",
    "    import json\n",
    "    import pandas as pd\n",
    "    import numpy as np\n",
    "    from pandas.io.json import json_normalize\n",
    "    import re\n",
    "    import jieba\n",
    "    from time import time\n",
    "    import pickle\n",
    "    \n",
    "    \n",
    "    page = 'your api page'\n",
    "    try:\n",
    "        r = requests.get(page)\n",
    "    except (requests.Timeout, requests.ConnectionError, requests.HTTPError, requests.RequestException) as warning:\n",
    "        print('page failed')\n",
    "    else:\n",
    "        json_data = r.json()\n",
    "        for i in range(len(json_data['responses'])):\n",
    "            results = json_data['responses'][i]\n",
    "            data = results['answers']\n",
    "            data['email'] = results['hidden']['email']\n",
    "            data['date'] = results['hidden']['first']\n",
    "            data['phone'] = results['hidden']['phone']\n",
    "            result.append(data)\n",
    "    finally:\n",
    "        total = json_data['stats']['responses']['completed']\n",
    "        #print('all:', total, '  now:', len(result))\n",
    "        if len(result) != total:\n",
    "            offset+=1000\n",
    "            return nps_api_1993(result=result, offset=offset)\n",
    "        else:\n",
    "            return result"
   ]
  },
  {
   "cell_type": "markdown",
   "metadata": {},
   "source": [
    "再來要將取得的json檔轉換成data frame"
   ]
  },
  {
   "cell_type": "code",
   "execution_count": 6,
   "metadata": {
    "collapsed": true
   },
   "outputs": [],
   "source": [
    "def nps_df_1993():\n",
    "    # Import requests package\n",
    "    import requests\n",
    "    from pprint import pprint\n",
    "    import json\n",
    "    import pandas as pd\n",
    "    import numpy as np\n",
    "    from pandas.io.json import json_normalize\n",
    "    import re\n",
    "    import jieba\n",
    "    from time import time\n",
    "    import pickle\n",
    "    \n",
    "    result = nps_api_1993()\n",
    "    \n",
    "    df = pd.DataFrame()\n",
    "    for i in range(len(result)):\n",
    "        results = json_normalize(result[i])\n",
    "        df = df.append(results, ignore_index=True)\n",
    "    df.columns = ['date', 'email', 'age', 'exp', 'score', 'phone', 'comment']\n",
    "    df = df[['date', 'age', 'email', 'phone', 'exp', 'score', 'comment']]\n",
    "    return df"
   ]
  },
  {
   "cell_type": "code",
   "execution_count": 7,
   "metadata": {
    "collapsed": true
   },
   "outputs": [],
   "source": [
    "df = nps_df_1993()\n",
    "#print(df.shape)\n",
    "#df.head()"
   ]
  },
  {
   "cell_type": "markdown",
   "metadata": {},
   "source": [
    "# Adjust time format"
   ]
  },
  {
   "cell_type": "markdown",
   "metadata": {},
   "source": [
    "由於問卷歷經兩次改版，導致時間格式部分有些異常，因此我們在此先做預處理以便後續分析"
   ]
  },
  {
   "cell_type": "code",
   "execution_count": 8,
   "metadata": {
    "collapsed": true
   },
   "outputs": [],
   "source": [
    "def dtype(rows):\n",
    "    if rows['date'] is None:\n",
    "        val = 'no_record'\n",
    "    elif rows['date'] == 'xxxxx':\n",
    "        val = 'no_record'\n",
    "    else:\n",
    "        val = rows['date'][:10]\n",
    "        if len(val) == 8:\n",
    "            val = val + '01'\n",
    "    return val"
   ]
  },
  {
   "cell_type": "code",
   "execution_count": 9,
   "metadata": {
    "collapsed": true
   },
   "outputs": [],
   "source": [
    "df['date'] = df.apply(dtype, axis=1)\n",
    "df = df.loc[df.date != 'no_record']\n",
    "df['date'] = pd.to_datetime(df['date'], format='%Y-%m-%d')\n",
    "df['month'] = df['date'].astype(str).str[:8] + '01'\n",
    "df['month'] = pd.to_datetime(df['month'], format='%Y-%m-%d')\n",
    "#print(df.shape)\n",
    "#df.head()"
   ]
  },
  {
   "cell_type": "markdown",
   "metadata": {},
   "source": [
    "# Assign nps group"
   ]
  },
  {
   "cell_type": "markdown",
   "metadata": {},
   "source": [
    "根據NPS的算法，我們第一步是將顧客根據評分做分群，這邊我們定義一個方程來執行 "
   ]
  },
  {
   "cell_type": "code",
   "execution_count": 10,
   "metadata": {
    "collapsed": true
   },
   "outputs": [],
   "source": [
    "def nps_diff(rows):\n",
    "    score = int(rows['score'])\n",
    "    if score >= 9:\n",
    "        val = 'pro'\n",
    "    elif score <= 6:\n",
    "        val = 'det'\n",
    "    else:\n",
    "        val = 'neu'\n",
    "    return val"
   ]
  },
  {
   "cell_type": "code",
   "execution_count": 11,
   "metadata": {
    "collapsed": true
   },
   "outputs": [],
   "source": [
    "df['class'] = df.apply(nps_diff, axis=1)"
   ]
  },
  {
   "cell_type": "code",
   "execution_count": 12,
   "metadata": {
    "collapsed": true
   },
   "outputs": [],
   "source": [
    "#df.head()"
   ]
  },
  {
   "cell_type": "markdown",
   "metadata": {},
   "source": [
    "# Calculate nps score"
   ]
  },
  {
   "cell_type": "markdown",
   "metadata": {},
   "source": [
    "分好族群後，我們根據NPS的公式來計算"
   ]
  },
  {
   "cell_type": "code",
   "execution_count": 13,
   "metadata": {
    "collapsed": true
   },
   "outputs": [],
   "source": [
    "df_group = df.groupby(['month', 'class'])['email'].count()  # 根據每月來計算各族群人數"
   ]
  },
  {
   "cell_type": "code",
   "execution_count": 14,
   "metadata": {
    "collapsed": true
   },
   "outputs": [],
   "source": [
    "df_group = df_group.reset_index()"
   ]
  },
  {
   "cell_type": "code",
   "execution_count": 15,
   "metadata": {
    "collapsed": true
   },
   "outputs": [],
   "source": [
    "df_group.columns = ['month', 'class', 'num']"
   ]
  },
  {
   "cell_type": "code",
   "execution_count": 16,
   "metadata": {
    "collapsed": true
   },
   "outputs": [],
   "source": [
    "df_all = df.groupby(['month'])['email'].count()"
   ]
  },
  {
   "cell_type": "code",
   "execution_count": 17,
   "metadata": {
    "collapsed": true
   },
   "outputs": [],
   "source": [
    "df_all = df_all.reset_index()"
   ]
  },
  {
   "cell_type": "code",
   "execution_count": 18,
   "metadata": {
    "collapsed": true
   },
   "outputs": [],
   "source": [
    "df_gather = pd.merge(left=df_group, right=df_all, how='left', on = ['month'])"
   ]
  },
  {
   "cell_type": "code",
   "execution_count": 19,
   "metadata": {
    "collapsed": true
   },
   "outputs": [],
   "source": [
    "df_gather.columns = ['month', 'class', 'num', 'all']"
   ]
  },
  {
   "cell_type": "code",
   "execution_count": 20,
   "metadata": {
    "collapsed": true
   },
   "outputs": [],
   "source": [
    "df_gather['per'] = df_gather['num'] / df_gather['all']  #計算各群百分比"
   ]
  },
  {
   "cell_type": "code",
   "execution_count": 21,
   "metadata": {},
   "outputs": [
    {
     "data": {
      "text/html": [
       "<div>\n",
       "<style>\n",
       "    .dataframe thead tr:only-child th {\n",
       "        text-align: right;\n",
       "    }\n",
       "\n",
       "    .dataframe thead th {\n",
       "        text-align: left;\n",
       "    }\n",
       "\n",
       "    .dataframe tbody tr th {\n",
       "        vertical-align: top;\n",
       "    }\n",
       "</style>\n",
       "<table border=\"1\" class=\"dataframe\">\n",
       "  <thead>\n",
       "    <tr style=\"text-align: right;\">\n",
       "      <th></th>\n",
       "      <th>month</th>\n",
       "      <th>class</th>\n",
       "      <th>num</th>\n",
       "      <th>all</th>\n",
       "      <th>per</th>\n",
       "      <th>cumper</th>\n",
       "    </tr>\n",
       "  </thead>\n",
       "  <tbody>\n",
       "    <tr>\n",
       "      <th>49</th>\n",
       "      <td>2017-08-01</td>\n",
       "      <td>neu</td>\n",
       "      <td>114</td>\n",
       "      <td>259</td>\n",
       "      <td>0.440154</td>\n",
       "      <td>0.81</td>\n",
       "    </tr>\n",
       "    <tr>\n",
       "      <th>50</th>\n",
       "      <td>2017-08-01</td>\n",
       "      <td>pro</td>\n",
       "      <td>49</td>\n",
       "      <td>259</td>\n",
       "      <td>0.189189</td>\n",
       "      <td>1.00</td>\n",
       "    </tr>\n",
       "    <tr>\n",
       "      <th>51</th>\n",
       "      <td>2017-09-01</td>\n",
       "      <td>det</td>\n",
       "      <td>68</td>\n",
       "      <td>201</td>\n",
       "      <td>0.338308</td>\n",
       "      <td>0.34</td>\n",
       "    </tr>\n",
       "    <tr>\n",
       "      <th>52</th>\n",
       "      <td>2017-09-01</td>\n",
       "      <td>neu</td>\n",
       "      <td>93</td>\n",
       "      <td>201</td>\n",
       "      <td>0.462687</td>\n",
       "      <td>0.80</td>\n",
       "    </tr>\n",
       "    <tr>\n",
       "      <th>53</th>\n",
       "      <td>2017-09-01</td>\n",
       "      <td>pro</td>\n",
       "      <td>40</td>\n",
       "      <td>201</td>\n",
       "      <td>0.199005</td>\n",
       "      <td>1.00</td>\n",
       "    </tr>\n",
       "  </tbody>\n",
       "</table>\n",
       "</div>"
      ],
      "text/plain": [
       "         month class  num  all       per  cumper\n",
       "49  2017-08-01   neu  114  259  0.440154    0.81\n",
       "50  2017-08-01   pro   49  259  0.189189    1.00\n",
       "51  2017-09-01   det   68  201  0.338308    0.34\n",
       "52  2017-09-01   neu   93  201  0.462687    0.80\n",
       "53  2017-09-01   pro   40  201  0.199005    1.00"
      ]
     },
     "execution_count": 21,
     "metadata": {},
     "output_type": "execute_result"
    }
   ],
   "source": [
    "df_gather['cumper'] = np.round(df_gather.groupby(['month']).cumsum().reset_index()['per'], 2) #計算累積機率 > 畫圖用的\n",
    "df_gather = df_gather.loc[df_gather['month'] != 'NaT']\n",
    "df_gather = df_gather.iloc[:(len(df_gather.index)-3), :]\n",
    "df_gather['month'] = df_gather['month'].astype(str)\n",
    "df_gather.tail()"
   ]
  },
  {
   "cell_type": "code",
   "execution_count": 22,
   "metadata": {
    "collapsed": true
   },
   "outputs": [],
   "source": [
    "df_spread = pd.pivot_table(df_gather, index=['month'], columns=['class'], values=['per']) #以族群作為欄名"
   ]
  },
  {
   "cell_type": "code",
   "execution_count": 23,
   "metadata": {
    "collapsed": true
   },
   "outputs": [],
   "source": [
    "df_spread = df_spread.reset_index()"
   ]
  },
  {
   "cell_type": "code",
   "execution_count": 24,
   "metadata": {
    "collapsed": true
   },
   "outputs": [],
   "source": [
    "df_spread.columns = df_spread.columns.droplevel()\n",
    "df_spread.columns = ['month', 'det', 'neu', 'pro']\n",
    "df_spread['nps'] = np.round((df_spread['pro'] - df_spread['det']) * 100, 2)  # 計算分數\n",
    "df_spread['month'] = df_spread['month'].astype(str)"
   ]
  },
  {
   "cell_type": "code",
   "execution_count": 25,
   "metadata": {},
   "outputs": [
    {
     "data": {
      "text/html": [
       "<div>\n",
       "<style>\n",
       "    .dataframe thead tr:only-child th {\n",
       "        text-align: right;\n",
       "    }\n",
       "\n",
       "    .dataframe thead th {\n",
       "        text-align: left;\n",
       "    }\n",
       "\n",
       "    .dataframe tbody tr th {\n",
       "        vertical-align: top;\n",
       "    }\n",
       "</style>\n",
       "<table border=\"1\" class=\"dataframe\">\n",
       "  <thead>\n",
       "    <tr style=\"text-align: right;\">\n",
       "      <th></th>\n",
       "      <th>month</th>\n",
       "      <th>det</th>\n",
       "      <th>neu</th>\n",
       "      <th>pro</th>\n",
       "      <th>nps</th>\n",
       "    </tr>\n",
       "  </thead>\n",
       "  <tbody>\n",
       "    <tr>\n",
       "      <th>13</th>\n",
       "      <td>2017-05-01</td>\n",
       "      <td>0.320794</td>\n",
       "      <td>0.480669</td>\n",
       "      <td>0.198537</td>\n",
       "      <td>-12.23</td>\n",
       "    </tr>\n",
       "    <tr>\n",
       "      <th>14</th>\n",
       "      <td>2017-06-01</td>\n",
       "      <td>0.331226</td>\n",
       "      <td>0.463970</td>\n",
       "      <td>0.204804</td>\n",
       "      <td>-12.64</td>\n",
       "    </tr>\n",
       "    <tr>\n",
       "      <th>15</th>\n",
       "      <td>2017-07-01</td>\n",
       "      <td>0.293860</td>\n",
       "      <td>0.528509</td>\n",
       "      <td>0.177632</td>\n",
       "      <td>-11.62</td>\n",
       "    </tr>\n",
       "    <tr>\n",
       "      <th>16</th>\n",
       "      <td>2017-08-01</td>\n",
       "      <td>0.370656</td>\n",
       "      <td>0.440154</td>\n",
       "      <td>0.189189</td>\n",
       "      <td>-18.15</td>\n",
       "    </tr>\n",
       "    <tr>\n",
       "      <th>17</th>\n",
       "      <td>2017-09-01</td>\n",
       "      <td>0.338308</td>\n",
       "      <td>0.462687</td>\n",
       "      <td>0.199005</td>\n",
       "      <td>-13.93</td>\n",
       "    </tr>\n",
       "  </tbody>\n",
       "</table>\n",
       "</div>"
      ],
      "text/plain": [
       "         month       det       neu       pro    nps\n",
       "13  2017-05-01  0.320794  0.480669  0.198537 -12.23\n",
       "14  2017-06-01  0.331226  0.463970  0.204804 -12.64\n",
       "15  2017-07-01  0.293860  0.528509  0.177632 -11.62\n",
       "16  2017-08-01  0.370656  0.440154  0.189189 -18.15\n",
       "17  2017-09-01  0.338308  0.462687  0.199005 -13.93"
      ]
     },
     "execution_count": 25,
     "metadata": {},
     "output_type": "execute_result"
    }
   ],
   "source": [
    "df_spread.tail()"
   ]
  },
  {
   "cell_type": "markdown",
   "metadata": {},
   "source": [
    "# Show NPS  "
   ]
  },
  {
   "cell_type": "markdown",
   "metadata": {},
   "source": [
    "這邊我們畫出NPS，方便我們快速判斷上個月的客戶體驗是否變差"
   ]
  },
  {
   "cell_type": "code",
   "execution_count": 26,
   "metadata": {},
   "outputs": [
    {
     "data": {
      "text/html": [
       "\n",
       "    <div class=\"bk-root\">\n",
       "        <a href=\"http://bokeh.pydata.org\" target=\"_blank\" class=\"bk-logo bk-logo-small bk-logo-notebook\"></a>\n",
       "        <span id=\"ec28da6e-abb8-4427-b142-6a4cbad1e916\">Loading BokehJS ...</span>\n",
       "    </div>"
      ]
     },
     "metadata": {},
     "output_type": "display_data"
    },
    {
     "data": {
      "application/javascript": [
       "\n",
       "(function(global) {\n",
       "  function now() {\n",
       "    return new Date();\n",
       "  }\n",
       "\n",
       "  var force = true;\n",
       "\n",
       "  if (typeof (window._bokeh_onload_callbacks) === \"undefined\" || force === true) {\n",
       "    window._bokeh_onload_callbacks = [];\n",
       "    window._bokeh_is_loading = undefined;\n",
       "  }\n",
       "\n",
       "\n",
       "  \n",
       "  if (typeof (window._bokeh_timeout) === \"undefined\" || force === true) {\n",
       "    window._bokeh_timeout = Date.now() + 5000;\n",
       "    window._bokeh_failed_load = false;\n",
       "  }\n",
       "\n",
       "  var NB_LOAD_WARNING = {'data': {'text/html':\n",
       "     \"<div style='background-color: #fdd'>\\n\"+\n",
       "     \"<p>\\n\"+\n",
       "     \"BokehJS does not appear to have successfully loaded. If loading BokehJS from CDN, this \\n\"+\n",
       "     \"may be due to a slow or bad network connection. Possible fixes:\\n\"+\n",
       "     \"</p>\\n\"+\n",
       "     \"<ul>\\n\"+\n",
       "     \"<li>re-rerun `output_notebook()` to attempt to load from CDN again, or</li>\\n\"+\n",
       "     \"<li>use INLINE resources instead, as so:</li>\\n\"+\n",
       "     \"</ul>\\n\"+\n",
       "     \"<code>\\n\"+\n",
       "     \"from bokeh.resources import INLINE\\n\"+\n",
       "     \"output_notebook(resources=INLINE)\\n\"+\n",
       "     \"</code>\\n\"+\n",
       "     \"</div>\"}};\n",
       "\n",
       "  function display_loaded() {\n",
       "    if (window.Bokeh !== undefined) {\n",
       "      var el = document.getElementById(\"ec28da6e-abb8-4427-b142-6a4cbad1e916\");\n",
       "      el.textContent = \"BokehJS \" + Bokeh.version + \" successfully loaded.\";\n",
       "    } else if (Date.now() < window._bokeh_timeout) {\n",
       "      setTimeout(display_loaded, 100)\n",
       "    }\n",
       "  }\n",
       "\n",
       "  function run_callbacks() {\n",
       "    try {\n",
       "      window._bokeh_onload_callbacks.forEach(function(callback) { callback() });\n",
       "    }\n",
       "    finally {\n",
       "      delete window._bokeh_onload_callbacks\n",
       "    }\n",
       "    console.info(\"Bokeh: all callbacks have finished\");\n",
       "  }\n",
       "\n",
       "  function load_libs(js_urls, callback) {\n",
       "    window._bokeh_onload_callbacks.push(callback);\n",
       "    if (window._bokeh_is_loading > 0) {\n",
       "      console.log(\"Bokeh: BokehJS is being loaded, scheduling callback at\", now());\n",
       "      return null;\n",
       "    }\n",
       "    if (js_urls == null || js_urls.length === 0) {\n",
       "      run_callbacks();\n",
       "      return null;\n",
       "    }\n",
       "    console.log(\"Bokeh: BokehJS not loaded, scheduling load and callback at\", now());\n",
       "    window._bokeh_is_loading = js_urls.length;\n",
       "    for (var i = 0; i < js_urls.length; i++) {\n",
       "      var url = js_urls[i];\n",
       "      var s = document.createElement('script');\n",
       "      s.src = url;\n",
       "      s.async = false;\n",
       "      s.onreadystatechange = s.onload = function() {\n",
       "        window._bokeh_is_loading--;\n",
       "        if (window._bokeh_is_loading === 0) {\n",
       "          console.log(\"Bokeh: all BokehJS libraries loaded\");\n",
       "          run_callbacks()\n",
       "        }\n",
       "      };\n",
       "      s.onerror = function() {\n",
       "        console.warn(\"failed to load library \" + url);\n",
       "      };\n",
       "      console.log(\"Bokeh: injecting script tag for BokehJS library: \", url);\n",
       "      document.getElementsByTagName(\"head\")[0].appendChild(s);\n",
       "    }\n",
       "  };var element = document.getElementById(\"ec28da6e-abb8-4427-b142-6a4cbad1e916\");\n",
       "  if (element == null) {\n",
       "    console.log(\"Bokeh: ERROR: autoload.js configured with elementid 'ec28da6e-abb8-4427-b142-6a4cbad1e916' but no matching script tag was found. \")\n",
       "    return false;\n",
       "  }\n",
       "\n",
       "  var js_urls = [\"https://cdn.pydata.org/bokeh/release/bokeh-0.12.6.min.js\", \"https://cdn.pydata.org/bokeh/release/bokeh-widgets-0.12.6.min.js\"];\n",
       "\n",
       "  var inline_js = [\n",
       "    function(Bokeh) {\n",
       "      Bokeh.set_log_level(\"info\");\n",
       "    },\n",
       "    \n",
       "    function(Bokeh) {\n",
       "      \n",
       "    },\n",
       "    \n",
       "    function(Bokeh) {\n",
       "      \n",
       "      document.getElementById(\"ec28da6e-abb8-4427-b142-6a4cbad1e916\").textContent = \"BokehJS is loading...\";\n",
       "    },\n",
       "    function(Bokeh) {\n",
       "      console.log(\"Bokeh: injecting CSS: https://cdn.pydata.org/bokeh/release/bokeh-0.12.6.min.css\");\n",
       "      Bokeh.embed.inject_css(\"https://cdn.pydata.org/bokeh/release/bokeh-0.12.6.min.css\");\n",
       "      console.log(\"Bokeh: injecting CSS: https://cdn.pydata.org/bokeh/release/bokeh-widgets-0.12.6.min.css\");\n",
       "      Bokeh.embed.inject_css(\"https://cdn.pydata.org/bokeh/release/bokeh-widgets-0.12.6.min.css\");\n",
       "    }\n",
       "  ];\n",
       "\n",
       "  function run_inline_js() {\n",
       "    \n",
       "    if ((window.Bokeh !== undefined) || (force === true)) {\n",
       "      for (var i = 0; i < inline_js.length; i++) {\n",
       "        inline_js[i](window.Bokeh);\n",
       "      }if (force === true) {\n",
       "        display_loaded();\n",
       "      }} else if (Date.now() < window._bokeh_timeout) {\n",
       "      setTimeout(run_inline_js, 100);\n",
       "    } else if (!window._bokeh_failed_load) {\n",
       "      console.log(\"Bokeh: BokehJS failed to load within specified timeout.\");\n",
       "      window._bokeh_failed_load = true;\n",
       "    } else if (force !== true) {\n",
       "      var cell = $(document.getElementById(\"ec28da6e-abb8-4427-b142-6a4cbad1e916\")).parents('.cell').data().cell;\n",
       "      cell.output_area.append_execute_result(NB_LOAD_WARNING)\n",
       "    }\n",
       "\n",
       "  }\n",
       "\n",
       "  if (window._bokeh_is_loading === 0) {\n",
       "    console.log(\"Bokeh: BokehJS loaded, going straight to plotting\");\n",
       "    run_inline_js();\n",
       "  } else {\n",
       "    load_libs(js_urls, function() {\n",
       "      console.log(\"Bokeh: BokehJS plotting callback run at\", now());\n",
       "      run_inline_js();\n",
       "    });\n",
       "  }\n",
       "}(this));"
      ]
     },
     "metadata": {},
     "output_type": "display_data"
    },
    {
     "name": "stderr",
     "output_type": "stream",
     "text": [
      "W-1005 (SNAPPED_TOOLBAR_ANNOTATIONS): Snapped toolbars and annotations on the same side MAY overlap visually: Chart(id='d9d39ba2-ff94-42ae-a3b6-f000d257d52d', ...)\n"
     ]
    },
    {
     "data": {
      "text/html": [
       "\n",
       "\n",
       "    <div class=\"bk-root\">\n",
       "        <div class=\"bk-plotdiv\" id=\"c744598b-a8b0-4c47-923b-7de303f769b2\"></div>\n",
       "    </div>\n",
       "<script type=\"text/javascript\">\n",
       "  \n",
       "  (function(global) {\n",
       "    function now() {\n",
       "      return new Date();\n",
       "    }\n",
       "  \n",
       "    var force = false;\n",
       "  \n",
       "    if (typeof (window._bokeh_onload_callbacks) === \"undefined\" || force === true) {\n",
       "      window._bokeh_onload_callbacks = [];\n",
       "      window._bokeh_is_loading = undefined;\n",
       "    }\n",
       "  \n",
       "  \n",
       "    \n",
       "    if (typeof (window._bokeh_timeout) === \"undefined\" || force === true) {\n",
       "      window._bokeh_timeout = Date.now() + 0;\n",
       "      window._bokeh_failed_load = false;\n",
       "    }\n",
       "  \n",
       "    var NB_LOAD_WARNING = {'data': {'text/html':\n",
       "       \"<div style='background-color: #fdd'>\\n\"+\n",
       "       \"<p>\\n\"+\n",
       "       \"BokehJS does not appear to have successfully loaded. If loading BokehJS from CDN, this \\n\"+\n",
       "       \"may be due to a slow or bad network connection. Possible fixes:\\n\"+\n",
       "       \"</p>\\n\"+\n",
       "       \"<ul>\\n\"+\n",
       "       \"<li>re-rerun `output_notebook()` to attempt to load from CDN again, or</li>\\n\"+\n",
       "       \"<li>use INLINE resources instead, as so:</li>\\n\"+\n",
       "       \"</ul>\\n\"+\n",
       "       \"<code>\\n\"+\n",
       "       \"from bokeh.resources import INLINE\\n\"+\n",
       "       \"output_notebook(resources=INLINE)\\n\"+\n",
       "       \"</code>\\n\"+\n",
       "       \"</div>\"}};\n",
       "  \n",
       "    function display_loaded() {\n",
       "      if (window.Bokeh !== undefined) {\n",
       "        var el = document.getElementById(\"c744598b-a8b0-4c47-923b-7de303f769b2\");\n",
       "        el.textContent = \"BokehJS \" + Bokeh.version + \" successfully loaded.\";\n",
       "      } else if (Date.now() < window._bokeh_timeout) {\n",
       "        setTimeout(display_loaded, 100)\n",
       "      }\n",
       "    }if ((window.Jupyter !== undefined) && Jupyter.notebook.kernel) {\n",
       "      comm_manager = Jupyter.notebook.kernel.comm_manager\n",
       "      comm_manager.register_target(\"ca9804f0-805a-493c-836a-a522c455781b\", function () {});\n",
       "    }\n",
       "  \n",
       "    function run_callbacks() {\n",
       "      try {\n",
       "        window._bokeh_onload_callbacks.forEach(function(callback) { callback() });\n",
       "      }\n",
       "      finally {\n",
       "        delete window._bokeh_onload_callbacks\n",
       "      }\n",
       "      console.info(\"Bokeh: all callbacks have finished\");\n",
       "    }\n",
       "  \n",
       "    function load_libs(js_urls, callback) {\n",
       "      window._bokeh_onload_callbacks.push(callback);\n",
       "      if (window._bokeh_is_loading > 0) {\n",
       "        console.log(\"Bokeh: BokehJS is being loaded, scheduling callback at\", now());\n",
       "        return null;\n",
       "      }\n",
       "      if (js_urls == null || js_urls.length === 0) {\n",
       "        run_callbacks();\n",
       "        return null;\n",
       "      }\n",
       "      console.log(\"Bokeh: BokehJS not loaded, scheduling load and callback at\", now());\n",
       "      window._bokeh_is_loading = js_urls.length;\n",
       "      for (var i = 0; i < js_urls.length; i++) {\n",
       "        var url = js_urls[i];\n",
       "        var s = document.createElement('script');\n",
       "        s.src = url;\n",
       "        s.async = false;\n",
       "        s.onreadystatechange = s.onload = function() {\n",
       "          window._bokeh_is_loading--;\n",
       "          if (window._bokeh_is_loading === 0) {\n",
       "            console.log(\"Bokeh: all BokehJS libraries loaded\");\n",
       "            run_callbacks()\n",
       "          }\n",
       "        };\n",
       "        s.onerror = function() {\n",
       "          console.warn(\"failed to load library \" + url);\n",
       "        };\n",
       "        console.log(\"Bokeh: injecting script tag for BokehJS library: \", url);\n",
       "        document.getElementsByTagName(\"head\")[0].appendChild(s);\n",
       "      }\n",
       "    };var element = document.getElementById(\"c744598b-a8b0-4c47-923b-7de303f769b2\");\n",
       "    if (element == null) {\n",
       "      console.log(\"Bokeh: ERROR: autoload.js configured with elementid 'c744598b-a8b0-4c47-923b-7de303f769b2' but no matching script tag was found. \")\n",
       "      return false;\n",
       "    }\n",
       "  \n",
       "    var js_urls = [];\n",
       "  \n",
       "    var inline_js = [\n",
       "      function(Bokeh) {\n",
       "        (function() {\n",
       "          var fn = function() {\n",
       "            var docs_json = {\"49e41a66-dde0-4fc1-964e-b5341063b9cb\":{\"roots\":{\"references\":[{\"attributes\":{\"level\":\"glyph\",\"plot\":{\"id\":\"d9d39ba2-ff94-42ae-a3b6-f000d257d52d\",\"subtype\":\"Chart\",\"type\":\"Plot\"},\"source\":{\"id\":\"6235c2ae-85cc-440c-b94f-1ec0d75ff5ef\",\"type\":\"ColumnDataSource\"},\"text\":{\"field\":\"val\"},\"text_color\":{\"value\":\"white\"},\"text_font_size\":{\"value\":\"10pt\"},\"text_font_style\":\"bold\",\"x\":{\"field\":\"x\"},\"x_offset\":{\"value\":-10},\"y\":{\"field\":\"y\"},\"y_offset\":{\"value\":-20}},\"id\":\"ee49045f-59e3-477f-bae9-f72e3f6205ce\",\"type\":\"LabelSet\"},{\"attributes\":{\"label\":{\"value\":\"pro\"},\"renderers\":[{\"id\":\"5001b7b8-f058-4dbb-ab48-9ba25b38f998\",\"type\":\"GlyphRenderer\"}]},\"id\":\"949fad16-0fdf-4201-a6f2-f0947d28baa4\",\"type\":\"LegendItem\"},{\"attributes\":{\"data_source\":{\"id\":\"f5226415-30af-4a04-ad71-2f0bfe658f57\",\"type\":\"ColumnDataSource\"},\"glyph\":{\"id\":\"294c0f04-2ce4-49e8-8fb4-513998aadaf6\",\"type\":\"Circle\"},\"hover_glyph\":null,\"muted_glyph\":null,\"nonselection_glyph\":{\"id\":\"b2f35f38-0231-4225-82e7-f4371dd73f53\",\"type\":\"Circle\"},\"selection_glyph\":null,\"y_range_name\":\"percent\"},\"id\":\"64c3bc28-560b-4089-bccd-6659bf7523b4\",\"type\":\"GlyphRenderer\"},{\"attributes\":{\"line_alpha\":{\"value\":0.1},\"line_color\":{\"value\":\"#1f77b4\"},\"line_width\":{\"value\":2},\"x\":{\"field\":\"x\"},\"y\":{\"field\":\"y\"}},\"id\":\"3c45eac1-f0bc-46fc-9b11-36c68a060469\",\"type\":\"Line\"},{\"attributes\":{\"data_source\":{\"id\":\"e4530045-8f89-4e57-861b-e42c7d17414d\",\"type\":\"ColumnDataSource\"},\"glyph\":{\"id\":\"01720aa4-84a4-43dc-9e61-e557897150e3\",\"type\":\"Rect\"},\"hover_glyph\":null,\"muted_glyph\":null},\"id\":\"a3568373-8d25-47ab-b74f-7a789e118280\",\"type\":\"GlyphRenderer\"},{\"attributes\":{\"data_source\":{\"id\":\"3be58ba1-6115-4a58-9b34-9a52712ccbe7\",\"type\":\"ColumnDataSource\"},\"glyph\":{\"id\":\"19e1cb48-73ea-4355-869d-c79092caf075\",\"type\":\"Rect\"},\"hover_glyph\":null,\"muted_glyph\":null},\"id\":\"58de8a71-5930-4600-b57d-196047185827\",\"type\":\"GlyphRenderer\"},{\"attributes\":{},\"id\":\"19499654-c9f4-482d-b378-eaae2657e0ef\",\"type\":\"BasicTickFormatter\"},{\"attributes\":{\"callback\":null,\"column_names\":[\"x\",\"y\",\"width\",\"height\",\"color\",\"fill_alpha\",\"line_color\",\"line_alpha\",\"label\"],\"data\":{\"chart_index\":[{\"class\":\"pro\",\"month\":\"2016-04-01\"}],\"class\":[\"pro\"],\"color\":[\"#4daf4a\"],\"fill_alpha\":[0.8],\"height\":[0.19888475836431227],\"label\":[{\"class\":\"pro\",\"month\":\"2016-04-01\"}],\"line_alpha\":[1.0],\"line_color\":[\"white\"],\"month\":[\"2016-04-01\"],\"width\":[0.8],\"x\":[\"2016-04-01\"],\"y\":[0.9005576208178439]}},\"id\":\"32e62b0a-d364-4c00-a473-87884f0b5e61\",\"type\":\"ColumnDataSource\"},{\"attributes\":{\"formatter\":{\"id\":\"19499654-c9f4-482d-b378-eaae2657e0ef\",\"type\":\"BasicTickFormatter\"},\"plot\":{\"id\":\"d9d39ba2-ff94-42ae-a3b6-f000d257d52d\",\"subtype\":\"Chart\",\"type\":\"Plot\"},\"ticker\":{\"id\":\"677649a9-f8e3-4114-803d-4e8db9b18cdd\",\"type\":\"BasicTicker\"},\"y_range_name\":\"percent\"},\"id\":\"956f2d16-abb6-4151-8cb1-d6ca133dfbe6\",\"type\":\"LinearAxis\"},{\"attributes\":{},\"id\":\"4c404712-ce70-4a1d-9849-e951215c8064\",\"type\":\"ToolEvents\"},{\"attributes\":{\"fill_alpha\":{\"field\":\"fill_alpha\"},\"fill_color\":{\"field\":\"color\"},\"height\":{\"field\":\"height\",\"units\":\"data\"},\"line_color\":{\"field\":\"line_color\"},\"width\":{\"field\":\"width\",\"units\":\"data\"},\"x\":{\"field\":\"x\"},\"y\":{\"field\":\"y\"}},\"id\":\"01720aa4-84a4-43dc-9e61-e557897150e3\",\"type\":\"Rect\"},{\"attributes\":{\"fill_alpha\":{\"field\":\"fill_alpha\"},\"fill_color\":{\"field\":\"color\"},\"height\":{\"field\":\"height\",\"units\":\"data\"},\"line_color\":{\"field\":\"line_color\"},\"width\":{\"field\":\"width\",\"units\":\"data\"},\"x\":{\"field\":\"x\"},\"y\":{\"field\":\"y\"}},\"id\":\"19e1cb48-73ea-4355-869d-c79092caf075\",\"type\":\"Rect\"},{\"attributes\":{\"callback\":null,\"column_names\":[\"x\",\"y\",\"width\",\"height\",\"color\",\"fill_alpha\",\"line_color\",\"line_alpha\",\"label\"],\"data\":{\"chart_index\":[{\"class\":\"pro\",\"month\":\"2017-03-01\"}],\"class\":[\"pro\"],\"color\":[\"#4daf4a\"],\"fill_alpha\":[0.8],\"height\":[0.19358074222668004],\"label\":[{\"class\":\"pro\",\"month\":\"2017-03-01\"}],\"line_alpha\":[1.0],\"line_color\":[\"white\"],\"month\":[\"2017-03-01\"],\"width\":[0.8],\"x\":[\"2017-03-01\"],\"y\":[0.90320962888666]}},\"id\":\"e4530045-8f89-4e57-861b-e42c7d17414d\",\"type\":\"ColumnDataSource\"},{\"attributes\":{},\"id\":\"0fa51d37-6059-478a-9b20-3fa7cf1642e6\",\"type\":\"CategoricalTickFormatter\"},{\"attributes\":{\"data_source\":{\"id\":\"c07abf2c-8931-4d9a-8b7f-86e3c30106b0\",\"type\":\"ColumnDataSource\"},\"glyph\":{\"id\":\"caf780e1-141f-49a4-ba3e-cb57522f18bb\",\"type\":\"Rect\"},\"hover_glyph\":null,\"muted_glyph\":null},\"id\":\"f0f41387-f003-43b0-940d-2dea311e7386\",\"type\":\"GlyphRenderer\"},{\"attributes\":{\"axis_label\":\"Month\",\"formatter\":{\"id\":\"0fa51d37-6059-478a-9b20-3fa7cf1642e6\",\"type\":\"CategoricalTickFormatter\"},\"major_label_orientation\":0.7853981633974483,\"plot\":{\"id\":\"d9d39ba2-ff94-42ae-a3b6-f000d257d52d\",\"subtype\":\"Chart\",\"type\":\"Plot\"},\"ticker\":{\"id\":\"3740abce-cd65-495c-a11f-62d6a74f0ad8\",\"type\":\"CategoricalTicker\"}},\"id\":\"31c33e4d-d469-4fc4-87b8-d5112cce4a24\",\"type\":\"CategoricalAxis\"},{\"attributes\":{\"fill_alpha\":{\"field\":\"fill_alpha\"},\"fill_color\":{\"field\":\"color\"},\"height\":{\"field\":\"height\",\"units\":\"data\"},\"line_color\":{\"field\":\"line_color\"},\"width\":{\"field\":\"width\",\"units\":\"data\"},\"x\":{\"field\":\"x\"},\"y\":{\"field\":\"y\"}},\"id\":\"a6ab2d4e-fc46-42a3-8090-3bb611ced82b\",\"type\":\"Rect\"},{\"attributes\":{\"data_source\":{\"id\":\"1435a577-8418-4f5c-8c1b-52b81f0dcb7f\",\"type\":\"ColumnDataSource\"},\"glyph\":{\"id\":\"a6ab2d4e-fc46-42a3-8090-3bb611ced82b\",\"type\":\"Rect\"},\"hover_glyph\":null,\"muted_glyph\":null},\"id\":\"eedf1535-4915-4358-8bd5-43ea30eb68b3\",\"type\":\"GlyphRenderer\"},{\"attributes\":{\"data_source\":{\"id\":\"ac1e86c7-20c2-41f6-b7a5-40977cebef81\",\"type\":\"ColumnDataSource\"},\"glyph\":{\"id\":\"8bb65d88-3a00-48c6-9ea0-4ace6fc754fa\",\"type\":\"Rect\"},\"hover_glyph\":null,\"muted_glyph\":null},\"id\":\"c391fa39-3799-4048-b173-d029a78634bf\",\"type\":\"GlyphRenderer\"},{\"attributes\":{\"callback\":null,\"column_names\":[\"x\",\"y\",\"width\",\"height\",\"color\",\"fill_alpha\",\"line_color\",\"line_alpha\",\"label\"],\"data\":{\"chart_index\":[{\"class\":\"neu\",\"month\":\"2016-07-01\"}],\"class\":[\"neu\"],\"color\":[\"#377eb8\"],\"fill_alpha\":[0.8],\"height\":[0.4225255972696246],\"label\":[{\"class\":\"neu\",\"month\":\"2016-07-01\"}],\"line_alpha\":[1.0],\"line_color\":[\"white\"],\"month\":[\"2016-07-01\"],\"width\":[0.8],\"x\":[\"2016-07-01\"],\"y\":[0.6112627986348123]}},\"id\":\"8aea5a92-9219-4d8f-84d5-aecc1e95844b\",\"type\":\"ColumnDataSource\"},{\"attributes\":{\"callback\":null,\"column_names\":[\"x\",\"y\",\"width\",\"height\",\"color\",\"fill_alpha\",\"line_color\",\"line_alpha\",\"label\"],\"data\":{\"chart_index\":[{\"class\":\"det\",\"month\":\"2017-04-01\"}],\"class\":[\"det\"],\"color\":[\"#e41a1c\"],\"fill_alpha\":[0.8],\"height\":[0.27473806752037255],\"label\":[{\"class\":\"det\",\"month\":\"2017-04-01\"}],\"line_alpha\":[1.0],\"line_color\":[\"white\"],\"month\":[\"2017-04-01\"],\"width\":[0.8],\"x\":[\"2017-04-01\"],\"y\":[0.13736903376018628]}},\"id\":\"1435a577-8418-4f5c-8c1b-52b81f0dcb7f\",\"type\":\"ColumnDataSource\"},{\"attributes\":{\"fill_color\":{\"value\":\"black\"},\"line_color\":{\"value\":\"#1f77b4\"},\"size\":{\"units\":\"screen\",\"value\":8},\"x\":{\"field\":\"x\"},\"y\":{\"field\":\"y\"}},\"id\":\"294c0f04-2ce4-49e8-8fb4-513998aadaf6\",\"type\":\"Circle\"},{\"attributes\":{\"callback\":null,\"column_names\":[\"x\",\"y\",\"width\",\"height\",\"color\",\"fill_alpha\",\"line_color\",\"line_alpha\",\"label\"],\"data\":{\"chart_index\":[{\"class\":\"pro\",\"month\":\"2016-05-01\"}],\"class\":[\"pro\"],\"color\":[\"#4daf4a\"],\"fill_alpha\":[0.8],\"height\":[0.1748971193415638],\"label\":[{\"class\":\"pro\",\"month\":\"2016-05-01\"}],\"line_alpha\":[1.0],\"line_color\":[\"white\"],\"month\":[\"2016-05-01\"],\"width\":[0.8],\"x\":[\"2016-05-01\"],\"y\":[0.9125514403292181]}},\"id\":\"ebdf4105-fc2a-4964-94e4-f9b7efdbd1dd\",\"type\":\"ColumnDataSource\"},{\"attributes\":{\"fill_alpha\":{\"field\":\"fill_alpha\"},\"fill_color\":{\"field\":\"color\"},\"height\":{\"field\":\"height\",\"units\":\"data\"},\"line_color\":{\"field\":\"line_color\"},\"width\":{\"field\":\"width\",\"units\":\"data\"},\"x\":{\"field\":\"x\"},\"y\":{\"field\":\"y\"}},\"id\":\"6aaf9c97-85a6-433f-9840-3d9fb80af6fa\",\"type\":\"Rect\"},{\"attributes\":{\"callback\":null,\"column_names\":[\"x\",\"y\",\"width\",\"height\",\"color\",\"fill_alpha\",\"line_color\",\"line_alpha\",\"label\"],\"data\":{\"chart_index\":[{\"class\":\"pro\",\"month\":\"2016-06-01\"}],\"class\":[\"pro\"],\"color\":[\"#4daf4a\"],\"fill_alpha\":[0.8],\"height\":[0.19736842105263158],\"label\":[{\"class\":\"pro\",\"month\":\"2016-06-01\"}],\"line_alpha\":[1.0],\"line_color\":[\"white\"],\"month\":[\"2016-06-01\"],\"width\":[0.8],\"x\":[\"2016-06-01\"],\"y\":[0.9013157894736842]}},\"id\":\"27338e78-54d6-44af-a363-b7e0400e6007\",\"type\":\"ColumnDataSource\"},{\"attributes\":{\"fill_alpha\":{\"field\":\"fill_alpha\"},\"fill_color\":{\"field\":\"color\"},\"height\":{\"field\":\"height\",\"units\":\"data\"},\"line_color\":{\"field\":\"line_color\"},\"width\":{\"field\":\"width\",\"units\":\"data\"},\"x\":{\"field\":\"x\"},\"y\":{\"field\":\"y\"}},\"id\":\"916716eb-c84e-43cc-a6cf-6052961a7516\",\"type\":\"Rect\"},{\"attributes\":{\"data_source\":{\"id\":\"7d17dd99-1cf7-4e51-9b0e-764722663fc3\",\"type\":\"ColumnDataSource\"},\"glyph\":{\"id\":\"62ceff8f-7548-4ef2-acf0-bb27d436c7ad\",\"type\":\"Rect\"},\"hover_glyph\":null,\"muted_glyph\":null},\"id\":\"4fd38315-7594-4da3-bc52-51881805bd2a\",\"type\":\"GlyphRenderer\"},{\"attributes\":{\"callback\":null,\"column_names\":[\"x\",\"y\",\"width\",\"height\",\"color\",\"fill_alpha\",\"line_color\",\"line_alpha\",\"label\"],\"data\":{\"chart_index\":[{\"class\":\"neu\",\"month\":\"2017-04-01\"}],\"class\":[\"neu\"],\"color\":[\"#377eb8\"],\"fill_alpha\":[0.8],\"height\":[0.5005820721769499],\"label\":[{\"class\":\"neu\",\"month\":\"2017-04-01\"}],\"line_alpha\":[1.0],\"line_color\":[\"white\"],\"month\":[\"2017-04-01\"],\"width\":[0.8],\"x\":[\"2017-04-01\"],\"y\":[0.5250291036088475]}},\"id\":\"079352a5-ce66-4c34-9870-c1db430a7bd6\",\"type\":\"ColumnDataSource\"},{\"attributes\":{\"callback\":null,\"column_names\":[\"x\",\"y\",\"width\",\"height\",\"color\",\"fill_alpha\",\"line_color\",\"line_alpha\",\"label\"],\"data\":{\"chart_index\":[{\"class\":\"pro\",\"month\":\"2017-01-01\"}],\"class\":[\"pro\"],\"color\":[\"#4daf4a\"],\"fill_alpha\":[0.8],\"height\":[0.17892644135188868],\"label\":[{\"class\":\"pro\",\"month\":\"2017-01-01\"}],\"line_alpha\":[1.0],\"line_color\":[\"white\"],\"month\":[\"2017-01-01\"],\"width\":[0.8],\"x\":[\"2017-01-01\"],\"y\":[0.9105367793240556]}},\"id\":\"a41c9517-d4ed-4e9a-84aa-6f2dec05148a\",\"type\":\"ColumnDataSource\"},{\"attributes\":{\"data_source\":{\"id\":\"079352a5-ce66-4c34-9870-c1db430a7bd6\",\"type\":\"ColumnDataSource\"},\"glyph\":{\"id\":\"916716eb-c84e-43cc-a6cf-6052961a7516\",\"type\":\"Rect\"},\"hover_glyph\":null,\"muted_glyph\":null},\"id\":\"d92a5970-96b5-47ee-8017-792f0a7c83da\",\"type\":\"GlyphRenderer\"},{\"attributes\":{\"data_source\":{\"id\":\"6ba7f80b-a1c9-4fed-b489-93645a2edf73\",\"type\":\"ColumnDataSource\"},\"glyph\":{\"id\":\"949ac155-4344-4928-80b1-bc2c0067690c\",\"type\":\"Rect\"},\"hover_glyph\":null,\"muted_glyph\":null},\"id\":\"3b468976-b946-4c66-84de-22d993263867\",\"type\":\"GlyphRenderer\"},{\"attributes\":{\"items\":[{\"id\":\"b3e0ffaa-fe1e-45bd-bec1-4046e19ccd15\",\"type\":\"LegendItem\"},{\"id\":\"b98301f2-8d70-4f67-a250-aeb33a4c9563\",\"type\":\"LegendItem\"},{\"id\":\"949fad16-0fdf-4201-a6f2-f0947d28baa4\",\"type\":\"LegendItem\"}],\"location\":\"bottom_right\",\"plot\":{\"id\":\"d9d39ba2-ff94-42ae-a3b6-f000d257d52d\",\"subtype\":\"Chart\",\"type\":\"Plot\"}},\"id\":\"808e3124-9dd9-4d43-a03b-e5406d99dd02\",\"type\":\"Legend\"},{\"attributes\":{\"callback\":null,\"column_names\":[\"x\",\"y\",\"width\",\"height\",\"color\",\"fill_alpha\",\"line_color\",\"line_alpha\",\"label\"],\"data\":{\"chart_index\":[{\"class\":\"neu\",\"month\":\"2016-06-01\"}],\"class\":[\"neu\"],\"color\":[\"#377eb8\"],\"fill_alpha\":[0.8],\"height\":[0.42105263157894735],\"label\":[{\"class\":\"neu\",\"month\":\"2016-06-01\"}],\"line_alpha\":[1.0],\"line_color\":[\"white\"],\"month\":[\"2016-06-01\"],\"width\":[0.8],\"x\":[\"2016-06-01\"],\"y\":[0.5921052631578947]}},\"id\":\"50b7b51f-ed72-43d6-a38f-5c56f67bd0b1\",\"type\":\"ColumnDataSource\"},{\"attributes\":{\"fill_alpha\":{\"field\":\"fill_alpha\"},\"fill_color\":{\"field\":\"color\"},\"height\":{\"field\":\"height\",\"units\":\"data\"},\"line_color\":{\"field\":\"line_color\"},\"width\":{\"field\":\"width\",\"units\":\"data\"},\"x\":{\"field\":\"x\"},\"y\":{\"field\":\"y\"}},\"id\":\"0e77a924-d6fa-40bd-8553-1b3d97caf068\",\"type\":\"Rect\"},{\"attributes\":{\"fill_alpha\":{\"field\":\"fill_alpha\"},\"fill_color\":{\"field\":\"color\"},\"height\":{\"field\":\"height\",\"units\":\"data\"},\"line_color\":{\"field\":\"line_color\"},\"width\":{\"field\":\"width\",\"units\":\"data\"},\"x\":{\"field\":\"x\"},\"y\":{\"field\":\"y\"}},\"id\":\"949ac155-4344-4928-80b1-bc2c0067690c\",\"type\":\"Rect\"},{\"attributes\":{\"label\":{\"value\":\"neu\"},\"renderers\":[{\"id\":\"50fd6f96-358c-437e-aefe-e7f07c6a7bc6\",\"type\":\"GlyphRenderer\"}]},\"id\":\"b98301f2-8d70-4f67-a250-aeb33a4c9563\",\"type\":\"LegendItem\"},{\"attributes\":{\"callback\":null,\"column_names\":[\"x\",\"y\",\"width\",\"height\",\"color\",\"fill_alpha\",\"line_color\",\"line_alpha\",\"label\"],\"data\":{\"chart_index\":[{\"class\":\"neu\",\"month\":\"2016-08-01\"}],\"class\":[\"neu\"],\"color\":[\"#377eb8\"],\"fill_alpha\":[0.8],\"height\":[0.4100486223662885],\"label\":[{\"class\":\"neu\",\"month\":\"2016-08-01\"}],\"line_alpha\":[1.0],\"line_color\":[\"white\"],\"month\":[\"2016-08-01\"],\"width\":[0.8],\"x\":[\"2016-08-01\"],\"y\":[0.623716909778498]}},\"id\":\"3e02053b-10b5-4137-b22b-a435ce6a2233\",\"type\":\"ColumnDataSource\"},{\"attributes\":{\"callback\":null,\"column_names\":[\"x\",\"y\",\"width\",\"height\",\"color\",\"fill_alpha\",\"line_color\",\"line_alpha\",\"label\"],\"data\":{\"chart_index\":[{\"class\":\"pro\",\"month\":\"2016-07-01\"}],\"class\":[\"pro\"],\"color\":[\"#4daf4a\"],\"fill_alpha\":[0.8],\"height\":[0.17747440273037543],\"label\":[{\"class\":\"pro\",\"month\":\"2016-07-01\"}],\"line_alpha\":[1.0],\"line_color\":[\"white\"],\"month\":[\"2016-07-01\"],\"width\":[0.8],\"x\":[\"2016-07-01\"],\"y\":[0.9112627986348123]}},\"id\":\"8ea074c9-923a-44c5-bf76-93c1473f50ea\",\"type\":\"ColumnDataSource\"},{\"attributes\":{\"callback\":null,\"column_names\":[\"x\",\"y\",\"width\",\"height\",\"color\",\"fill_alpha\",\"line_color\",\"line_alpha\",\"label\"],\"data\":{\"chart_index\":[{\"class\":\"neu\",\"month\":\"2017-01-01\"}],\"class\":[\"neu\"],\"color\":[\"#377eb8\"],\"fill_alpha\":[0.8],\"height\":[0.441351888667992],\"label\":[{\"class\":\"neu\",\"month\":\"2017-01-01\"}],\"line_alpha\":[1.0],\"line_color\":[\"white\"],\"month\":[\"2017-01-01\"],\"width\":[0.8],\"x\":[\"2017-01-01\"],\"y\":[0.6003976143141153]}},\"id\":\"e7d8a47d-727f-483f-8c55-e5b620d7cf2a\",\"type\":\"ColumnDataSource\"},{\"attributes\":{\"callback\":null,\"column_names\":[\"x\",\"y\",\"width\",\"height\",\"color\",\"fill_alpha\",\"line_color\",\"line_alpha\",\"label\"],\"data\":{\"chart_index\":[{\"class\":\"neu\",\"month\":\"2016-05-01\"}],\"class\":[\"neu\"],\"color\":[\"#377eb8\"],\"fill_alpha\":[0.8],\"height\":[0.4012345679012346],\"label\":[{\"class\":\"neu\",\"month\":\"2016-05-01\"}],\"line_alpha\":[1.0],\"line_color\":[\"white\"],\"month\":[\"2016-05-01\"],\"width\":[0.8],\"x\":[\"2016-05-01\"],\"y\":[0.6244855967078189]}},\"id\":\"0d9cd5aa-0195-44a6-93d4-7a0e3deab0fe\",\"type\":\"ColumnDataSource\"},{\"attributes\":{\"callback\":null,\"column_names\":[\"x\",\"y\",\"width\",\"height\",\"color\",\"fill_alpha\",\"line_color\",\"line_alpha\",\"label\"],\"data\":{\"chart_index\":[{\"class\":\"neu\",\"month\":\"2016-09-01\"}],\"class\":[\"neu\"],\"color\":[\"#377eb8\"],\"fill_alpha\":[0.8],\"height\":[0.41026728892660164],\"label\":[{\"class\":\"neu\",\"month\":\"2016-09-01\"}],\"line_alpha\":[1.0],\"line_color\":[\"white\"],\"month\":[\"2016-09-01\"],\"width\":[0.8],\"x\":[\"2016-09-01\"],\"y\":[0.599703012303776]}},\"id\":\"34a9c3b7-a8c6-447c-99f8-77062e66e3ea\",\"type\":\"ColumnDataSource\"},{\"attributes\":{\"callback\":null,\"column_names\":[\"x\",\"y\",\"width\",\"height\",\"color\",\"fill_alpha\",\"line_color\",\"line_alpha\",\"label\"],\"data\":{\"chart_index\":[{\"class\":\"pro\",\"month\":\"2016-08-01\"}],\"class\":[\"pro\"],\"color\":[\"#4daf4a\"],\"fill_alpha\":[0.8],\"height\":[0.17125877903835765],\"label\":[{\"class\":\"pro\",\"month\":\"2016-08-01\"}],\"line_alpha\":[1.0],\"line_color\":[\"white\"],\"month\":[\"2016-08-01\"],\"width\":[0.8],\"x\":[\"2016-08-01\"],\"y\":[0.9143706104808211]}},\"id\":\"e7f3cbff-513b-4e79-8a84-fb90ca455b88\",\"type\":\"ColumnDataSource\"},{\"attributes\":{\"fill_alpha\":{\"value\":0.1},\"fill_color\":{\"value\":\"#1f77b4\"},\"line_alpha\":{\"value\":0.1},\"line_color\":{\"value\":\"#1f77b4\"},\"size\":{\"units\":\"screen\",\"value\":8},\"x\":{\"field\":\"x\"},\"y\":{\"field\":\"y\"}},\"id\":\"b2f35f38-0231-4225-82e7-f4371dd73f53\",\"type\":\"Circle\"},{\"attributes\":{\"callback\":null,\"column_names\":[\"x\",\"y\",\"width\",\"height\",\"color\",\"fill_alpha\",\"line_color\",\"line_alpha\",\"label\"],\"data\":{\"chart_index\":[{\"class\":\"neu\",\"month\":\"2016-10-01\"}],\"class\":[\"neu\"],\"color\":[\"#377eb8\"],\"fill_alpha\":[0.8],\"height\":[0.4399854067858446],\"label\":[{\"class\":\"neu\",\"month\":\"2016-10-01\"}],\"line_alpha\":[1.0],\"line_color\":[\"white\"],\"month\":[\"2016-10-01\"],\"width\":[0.8],\"x\":[\"2016-10-01\"],\"y\":[0.5815395840933966]}},\"id\":\"07820c04-172b-41b8-a07d-367613314c15\",\"type\":\"ColumnDataSource\"},{\"attributes\":{\"callback\":null,\"column_names\":[\"x\",\"y\",\"width\",\"height\",\"color\",\"fill_alpha\",\"line_color\",\"line_alpha\",\"label\"],\"data\":{\"chart_index\":[{\"class\":\"pro\",\"month\":\"2016-09-01\"}],\"class\":[\"pro\"],\"color\":[\"#4daf4a\"],\"fill_alpha\":[0.8],\"height\":[0.1951633432329232],\"label\":[{\"class\":\"pro\",\"month\":\"2016-09-01\"}],\"line_alpha\":[1.0],\"line_color\":[\"white\"],\"month\":[\"2016-09-01\"],\"width\":[0.8],\"x\":[\"2016-09-01\"],\"y\":[0.9024183283835384]}},\"id\":\"78983a04-b1a6-4902-a51b-3b2ed28563ca\",\"type\":\"ColumnDataSource\"},{\"attributes\":{\"fill_alpha\":{\"field\":\"fill_alpha\"},\"fill_color\":{\"field\":\"color\"},\"height\":{\"field\":\"height\",\"units\":\"data\"},\"line_color\":{\"field\":\"line_color\"},\"width\":{\"field\":\"width\",\"units\":\"data\"},\"x\":{\"field\":\"x\"},\"y\":{\"field\":\"y\"}},\"id\":\"baecd7f6-6c2a-482f-ba23-aff72d7253f1\",\"type\":\"Rect\"},{\"attributes\":{\"callback\":null,\"column_names\":[\"x\",\"y\",\"width\",\"height\",\"color\",\"fill_alpha\",\"line_color\",\"line_alpha\",\"label\"],\"data\":{\"chart_index\":[{\"class\":\"neu\",\"month\":\"2016-11-01\"}],\"class\":[\"neu\"],\"color\":[\"#377eb8\"],\"fill_alpha\":[0.8],\"height\":[0.42588575560375996],\"label\":[{\"class\":\"neu\",\"month\":\"2016-11-01\"}],\"line_alpha\":[1.0],\"line_color\":[\"white\"],\"month\":[\"2016-11-01\"],\"width\":[0.8],\"x\":[\"2016-11-01\"],\"y\":[0.5968908170643529]}},\"id\":\"98f3e30d-7cc4-4716-8f09-aaef702b4cab\",\"type\":\"ColumnDataSource\"},{\"attributes\":{\"callback\":null,\"column_names\":[\"x\",\"y\",\"width\",\"height\",\"color\",\"fill_alpha\",\"line_color\",\"line_alpha\",\"label\"],\"data\":{\"chart_index\":[{\"class\":\"pro\",\"month\":\"2016-10-01\"}],\"class\":[\"pro\"],\"color\":[\"#4daf4a\"],\"fill_alpha\":[0.8],\"height\":[0.19846771251368114],\"label\":[{\"class\":\"pro\",\"month\":\"2016-10-01\"}],\"line_alpha\":[1.0],\"line_color\":[\"white\"],\"month\":[\"2016-10-01\"],\"width\":[0.8],\"x\":[\"2016-10-01\"],\"y\":[0.9007661437431594]}},\"id\":\"b78be818-a4ff-49dc-bc37-015eaf1bc717\",\"type\":\"ColumnDataSource\"},{\"attributes\":{\"below\":[{\"id\":\"31c33e4d-d469-4fc4-87b8-d5112cce4a24\",\"type\":\"CategoricalAxis\"}],\"css_classes\":null,\"extra_y_ranges\":{\"percent\":{\"id\":\"b28737d5-bb5d-4977-bb62-9a4116bfad01\",\"type\":\"Range1d\"}},\"left\":[{\"id\":\"090ab56f-93c9-424d-8b9c-5d33c83c72aa\",\"type\":\"LinearAxis\"}],\"renderers\":[{\"id\":\"65137cf0-a2d8-47e5-b7cf-7dfedf939b5b\",\"type\":\"BoxAnnotation\"},{\"id\":\"b5f4b821-ae0a-4a18-b602-57ce3749e288\",\"type\":\"GlyphRenderer\"},{\"id\":\"50fd6f96-358c-437e-aefe-e7f07c6a7bc6\",\"type\":\"GlyphRenderer\"},{\"id\":\"5001b7b8-f058-4dbb-ab48-9ba25b38f998\",\"type\":\"GlyphRenderer\"},{\"id\":\"7da0ce68-a2fd-49f6-88cc-7b315386abc4\",\"type\":\"GlyphRenderer\"},{\"id\":\"c122aa6b-5e9e-4eba-9433-3489f298be8c\",\"type\":\"GlyphRenderer\"},{\"id\":\"7d1b88a0-df30-42b1-83c0-f5789f82aa7d\",\"type\":\"GlyphRenderer\"},{\"id\":\"9119e879-b52a-4649-92d9-801f17292b60\",\"type\":\"GlyphRenderer\"},{\"id\":\"35ac63b3-1f16-410e-a552-654df2c59b77\",\"type\":\"GlyphRenderer\"},{\"id\":\"08f5dbf7-0f5f-47cf-9c4f-a9d83e786f79\",\"type\":\"GlyphRenderer\"},{\"id\":\"6446fb91-9a40-4053-ae18-c6a8a23bd0f5\",\"type\":\"GlyphRenderer\"},{\"id\":\"e958bd3e-fac9-4b9e-b1d4-ce098b75fab1\",\"type\":\"GlyphRenderer\"},{\"id\":\"8c017e10-45a0-42a2-a4d0-91738cfd1288\",\"type\":\"GlyphRenderer\"},{\"id\":\"71b04d92-a1a7-4c67-89dd-a7a7cae6c413\",\"type\":\"GlyphRenderer\"},{\"id\":\"2153e7e1-ce99-4ad3-b8aa-7556249e939b\",\"type\":\"GlyphRenderer\"},{\"id\":\"195b2b71-efb0-4398-9e68-e32704e39a0a\",\"type\":\"GlyphRenderer\"},{\"id\":\"63dfe8a5-6d3a-4f96-a44e-32c5ee0bd904\",\"type\":\"GlyphRenderer\"},{\"id\":\"5213643d-d9e4-4fa0-a28b-d2430f53782e\",\"type\":\"GlyphRenderer\"},{\"id\":\"4956506b-156b-4cbb-a5b4-9020513c9cbf\",\"type\":\"GlyphRenderer\"},{\"id\":\"d38ea20f-586c-4e25-ac65-d6a011b70a93\",\"type\":\"GlyphRenderer\"},{\"id\":\"d83ac31c-8918-41e4-b644-c446831ace1d\",\"type\":\"GlyphRenderer\"},{\"id\":\"4436e672-1eeb-4fa3-bfbb-dececc6d1114\",\"type\":\"GlyphRenderer\"},{\"id\":\"4e391548-dd60-4ee0-80db-563e457615cf\",\"type\":\"GlyphRenderer\"},{\"id\":\"3446fb31-951d-4b59-aa8e-7fbd2baeaadd\",\"type\":\"GlyphRenderer\"},{\"id\":\"b743ae41-0d01-42cd-ad3a-3878f8770881\",\"type\":\"GlyphRenderer\"},{\"id\":\"ed0586da-c8af-4870-9843-01067f0ff4d1\",\"type\":\"GlyphRenderer\"},{\"id\":\"03c8bd02-f330-40b1-9be8-8db6d2d0609f\",\"type\":\"GlyphRenderer\"},{\"id\":\"76a5e77b-659d-4528-a6ff-c23917053611\",\"type\":\"GlyphRenderer\"},{\"id\":\"fd51e1f0-eb9d-4388-9c4f-20720d7db873\",\"type\":\"GlyphRenderer\"},{\"id\":\"704b2a83-bec5-490a-975c-90b9e430ded7\",\"type\":\"GlyphRenderer\"},{\"id\":\"6ad71087-c68f-4d07-81e0-57701f284f74\",\"type\":\"GlyphRenderer\"},{\"id\":\"c3f42ac1-03d8-44a7-9266-e75f44a91181\",\"type\":\"GlyphRenderer\"},{\"id\":\"4deb7f41-a9f6-4a34-9cee-0953fbe01178\",\"type\":\"GlyphRenderer\"},{\"id\":\"383d803b-e420-4bdf-b433-f56052774b49\",\"type\":\"GlyphRenderer\"},{\"id\":\"d58d159d-0b12-4e85-b30d-f637a36edcd8\",\"type\":\"GlyphRenderer\"},{\"id\":\"f0f41387-f003-43b0-940d-2dea311e7386\",\"type\":\"GlyphRenderer\"},{\"id\":\"a3568373-8d25-47ab-b74f-7a789e118280\",\"type\":\"GlyphRenderer\"},{\"id\":\"eedf1535-4915-4358-8bd5-43ea30eb68b3\",\"type\":\"GlyphRenderer\"},{\"id\":\"d92a5970-96b5-47ee-8017-792f0a7c83da\",\"type\":\"GlyphRenderer\"},{\"id\":\"b78e5bbd-7190-4cb0-ba93-5be4da7dfdca\",\"type\":\"GlyphRenderer\"},{\"id\":\"69d3f9fc-b5dc-43cc-9f41-86683bd5b024\",\"type\":\"GlyphRenderer\"},{\"id\":\"a5cea4e4-bdb3-47b0-bd4e-4703932cd312\",\"type\":\"GlyphRenderer\"},{\"id\":\"07a8b2e4-72b1-4bde-9f29-557b5a471b0f\",\"type\":\"GlyphRenderer\"},{\"id\":\"4aff8f38-8385-4e8c-857c-d40d2c54e3aa\",\"type\":\"GlyphRenderer\"},{\"id\":\"2d4157c4-fb6f-4db0-9992-0ee1b03ef070\",\"type\":\"GlyphRenderer\"},{\"id\":\"7b1bc558-3265-41c4-ad19-a95231c62776\",\"type\":\"GlyphRenderer\"},{\"id\":\"4fd38315-7594-4da3-bc52-51881805bd2a\",\"type\":\"GlyphRenderer\"},{\"id\":\"1aebe084-6997-4e07-9f0e-ee8b01dde352\",\"type\":\"GlyphRenderer\"},{\"id\":\"10ee7084-216b-49c8-907c-6339f108da55\",\"type\":\"GlyphRenderer\"},{\"id\":\"ef4f8e25-a5ab-4f37-837f-0c1db0149448\",\"type\":\"GlyphRenderer\"},{\"id\":\"2f00bb81-08fe-437f-8918-d0f2d5f22de0\",\"type\":\"GlyphRenderer\"},{\"id\":\"58de8a71-5930-4600-b57d-196047185827\",\"type\":\"GlyphRenderer\"},{\"id\":\"905ab176-8d51-4b26-9f3e-8d54a6c6818d\",\"type\":\"GlyphRenderer\"},{\"id\":\"c391fa39-3799-4048-b173-d029a78634bf\",\"type\":\"GlyphRenderer\"},{\"id\":\"3b468976-b946-4c66-84de-22d993263867\",\"type\":\"GlyphRenderer\"},{\"id\":\"808e3124-9dd9-4d43-a03b-e5406d99dd02\",\"type\":\"Legend\"},{\"id\":\"31c33e4d-d469-4fc4-87b8-d5112cce4a24\",\"type\":\"CategoricalAxis\"},{\"id\":\"090ab56f-93c9-424d-8b9c-5d33c83c72aa\",\"type\":\"LinearAxis\"},{\"id\":\"fe738867-5db1-4bd9-bd15-519f651169aa\",\"type\":\"Grid\"},{\"id\":\"5c0cda3c-f6e7-4d6c-ab79-0878eceb09b6\",\"type\":\"GlyphRenderer\"},{\"id\":\"64c3bc28-560b-4089-bccd-6659bf7523b4\",\"type\":\"GlyphRenderer\"},{\"id\":\"ee49045f-59e3-477f-bae9-f72e3f6205ce\",\"type\":\"LabelSet\"},{\"id\":\"956f2d16-abb6-4151-8cb1-d6ca133dfbe6\",\"type\":\"LinearAxis\"}],\"right\":[{\"id\":\"956f2d16-abb6-4151-8cb1-d6ca133dfbe6\",\"type\":\"LinearAxis\"}],\"title\":{\"id\":\"69347cb5-abfb-4249-96f0-35b99d38ebf4\",\"type\":\"Title\"},\"tool_events\":{\"id\":\"4c404712-ce70-4a1d-9849-e951215c8064\",\"type\":\"ToolEvents\"},\"toolbar\":{\"id\":\"794bc734-299c-4dcc-a388-0db66f7ff622\",\"type\":\"Toolbar\"},\"x_range\":{\"id\":\"abd9da13-39e7-49bf-99e2-4d42640027b1\",\"type\":\"FactorRange\"},\"x_scale\":{\"id\":\"4cf0df46-2d94-4ad4-9cc7-d0346978c61a\",\"type\":\"CategoricalScale\"},\"y_range\":{\"id\":\"ebd7b853-9eb4-4407-b395-e11f5c0abdb7\",\"type\":\"Range1d\"},\"y_scale\":{\"id\":\"bbd0fd6d-1f80-4aa0-a4fd-840a01ffe32d\",\"type\":\"LinearScale\"}},\"id\":\"d9d39ba2-ff94-42ae-a3b6-f000d257d52d\",\"subtype\":\"Chart\",\"type\":\"Plot\"},{\"attributes\":{\"callback\":null,\"column_names\":[\"x\",\"y\",\"width\",\"height\",\"color\",\"fill_alpha\",\"line_color\",\"line_alpha\",\"label\"],\"data\":{\"chart_index\":[{\"class\":\"neu\",\"month\":\"2016-12-01\"}],\"class\":[\"neu\"],\"color\":[\"#377eb8\"],\"fill_alpha\":[0.8],\"height\":[0.45120320855614976],\"label\":[{\"class\":\"neu\",\"month\":\"2016-12-01\"}],\"line_alpha\":[1.0],\"line_color\":[\"white\"],\"month\":[\"2016-12-01\"],\"width\":[0.8],\"x\":[\"2016-12-01\"],\"y\":[0.5959224598930482]}},\"id\":\"18013eba-2ae0-4ece-9e02-12d5ca0105d2\",\"type\":\"ColumnDataSource\"},{\"attributes\":{\"fill_alpha\":{\"field\":\"fill_alpha\"},\"fill_color\":{\"field\":\"color\"},\"height\":{\"field\":\"height\",\"units\":\"data\"},\"line_color\":{\"field\":\"line_color\"},\"width\":{\"field\":\"width\",\"units\":\"data\"},\"x\":{\"field\":\"x\"},\"y\":{\"field\":\"y\"}},\"id\":\"652d02e6-7343-4a8d-9ef0-cfe339b102b7\",\"type\":\"Rect\"},{\"attributes\":{\"data_source\":{\"id\":\"df5312b1-565a-495f-b474-f82bac63df3e\",\"type\":\"ColumnDataSource\"},\"glyph\":{\"id\":\"0e77a924-d6fa-40bd-8553-1b3d97caf068\",\"type\":\"Rect\"},\"hover_glyph\":null,\"muted_glyph\":null},\"id\":\"b78e5bbd-7190-4cb0-ba93-5be4da7dfdca\",\"type\":\"GlyphRenderer\"},{\"attributes\":{\"callback\":null,\"column_names\":[\"x\",\"y\",\"width\",\"height\",\"color\",\"fill_alpha\",\"line_color\",\"line_alpha\",\"label\"],\"data\":{\"chart_index\":[{\"class\":\"det\",\"month\":\"2016-05-01\"}],\"class\":[\"det\"],\"color\":[\"#e41a1c\"],\"fill_alpha\":[0.8],\"height\":[0.42386831275720166],\"label\":[{\"class\":\"det\",\"month\":\"2016-05-01\"}],\"line_alpha\":[1.0],\"line_color\":[\"white\"],\"month\":[\"2016-05-01\"],\"width\":[0.8],\"x\":[\"2016-05-01\"],\"y\":[0.21193415637860083]}},\"id\":\"2d83c502-cef7-4ac8-933c-9b0c18f8a546\",\"type\":\"ColumnDataSource\"},{\"attributes\":{\"callback\":null,\"column_names\":[\"x\",\"y\",\"width\",\"height\",\"color\",\"fill_alpha\",\"line_color\",\"line_alpha\",\"label\"],\"data\":{\"chart_index\":[{\"class\":\"pro\",\"month\":\"2016-11-01\"}],\"class\":[\"pro\"],\"color\":[\"#4daf4a\"],\"fill_alpha\":[0.8],\"height\":[0.19016630513376717],\"label\":[{\"class\":\"pro\",\"month\":\"2016-11-01\"}],\"line_alpha\":[1.0],\"line_color\":[\"white\"],\"month\":[\"2016-11-01\"],\"width\":[0.8],\"x\":[\"2016-11-01\"],\"y\":[0.9049168474331164]}},\"id\":\"fbdf6309-3b92-4d31-9ad7-065cc4352098\",\"type\":\"ColumnDataSource\"},{\"attributes\":{\"callback\":null,\"column_names\":[\"x\",\"y\",\"width\",\"height\",\"color\",\"fill_alpha\",\"line_color\",\"line_alpha\",\"label\"],\"data\":{\"chart_index\":[{\"class\":\"pro\",\"month\":\"2017-04-01\"}],\"class\":[\"pro\"],\"color\":[\"#4daf4a\"],\"fill_alpha\":[0.8],\"height\":[0.22467986030267753],\"label\":[{\"class\":\"pro\",\"month\":\"2017-04-01\"}],\"line_alpha\":[1.0],\"line_color\":[\"white\"],\"month\":[\"2017-04-01\"],\"width\":[0.8],\"x\":[\"2017-04-01\"],\"y\":[0.8876600698486613]}},\"id\":\"df5312b1-565a-495f-b474-f82bac63df3e\",\"type\":\"ColumnDataSource\"},{\"attributes\":{\"fill_alpha\":{\"field\":\"fill_alpha\"},\"fill_color\":{\"field\":\"color\"},\"height\":{\"field\":\"height\",\"units\":\"data\"},\"line_color\":{\"field\":\"line_color\"},\"width\":{\"field\":\"width\",\"units\":\"data\"},\"x\":{\"field\":\"x\"},\"y\":{\"field\":\"y\"}},\"id\":\"761b0b77-0db2-4ef5-a857-eaf95f1de5cd\",\"type\":\"Rect\"},{\"attributes\":{\"callback\":null,\"column_names\":[\"x\",\"y\",\"width\",\"height\",\"color\",\"fill_alpha\",\"line_color\",\"line_alpha\",\"label\"],\"data\":{\"chart_index\":[{\"class\":\"pro\",\"month\":\"2016-12-01\"}],\"class\":[\"pro\"],\"color\":[\"#4daf4a\"],\"fill_alpha\":[0.8],\"height\":[0.178475935828877],\"label\":[{\"class\":\"pro\",\"month\":\"2016-12-01\"}],\"line_alpha\":[1.0],\"line_color\":[\"white\"],\"month\":[\"2016-12-01\"],\"width\":[0.8],\"x\":[\"2016-12-01\"],\"y\":[0.9107620320855615]}},\"id\":\"0fdfbe07-6d8c-4eaf-969d-c9913f6c8015\",\"type\":\"ColumnDataSource\"},{\"attributes\":{\"data_source\":{\"id\":\"c568e3fb-f0fe-41c6-8cba-5b05d3c0d032\",\"type\":\"ColumnDataSource\"},\"glyph\":{\"id\":\"761b0b77-0db2-4ef5-a857-eaf95f1de5cd\",\"type\":\"Rect\"},\"hover_glyph\":null,\"muted_glyph\":null},\"id\":\"6446fb91-9a40-4053-ae18-c6a8a23bd0f5\",\"type\":\"GlyphRenderer\"},{\"attributes\":{\"callback\":null,\"column_names\":[\"x\",\"y\",\"width\",\"height\",\"color\",\"fill_alpha\",\"line_color\",\"line_alpha\",\"label\"],\"data\":{\"chart_index\":[{\"class\":\"neu\",\"month\":\"2017-06-01\"}],\"class\":[\"neu\"],\"color\":[\"#377eb8\"],\"fill_alpha\":[0.8],\"height\":[0.4639696586599241],\"label\":[{\"class\":\"neu\",\"month\":\"2017-06-01\"}],\"line_alpha\":[1.0],\"line_color\":[\"white\"],\"month\":[\"2017-06-01\"],\"width\":[0.8],\"x\":[\"2017-06-01\"],\"y\":[0.5632111251580278]}},\"id\":\"e8ff2298-60ad-43c6-a9e2-d75939a7bbc4\",\"type\":\"ColumnDataSource\"},{\"attributes\":{\"callback\":null,\"column_names\":[\"x\",\"y\",\"width\",\"height\",\"color\",\"fill_alpha\",\"line_color\",\"line_alpha\",\"label\"],\"data\":{\"chart_index\":[{\"class\":\"det\",\"month\":\"2017-07-01\"}],\"class\":[\"det\"],\"color\":[\"#e41a1c\"],\"fill_alpha\":[0.8],\"height\":[0.29385964912280704],\"label\":[{\"class\":\"det\",\"month\":\"2017-07-01\"}],\"line_alpha\":[1.0],\"line_color\":[\"white\"],\"month\":[\"2017-07-01\"],\"width\":[0.8],\"x\":[\"2017-07-01\"],\"y\":[0.14692982456140352]}},\"id\":\"7d17dd99-1cf7-4e51-9b0e-764722663fc3\",\"type\":\"ColumnDataSource\"},{\"attributes\":{\"callback\":null,\"column_names\":[\"x\",\"y\",\"width\",\"height\",\"color\",\"fill_alpha\",\"line_color\",\"line_alpha\",\"label\"],\"data\":{\"chart_index\":[{\"class\":\"neu\",\"month\":\"2017-05-01\"}],\"class\":[\"neu\"],\"color\":[\"#377eb8\"],\"fill_alpha\":[0.8],\"height\":[0.48066875653082547],\"label\":[{\"class\":\"neu\",\"month\":\"2017-05-01\"}],\"line_alpha\":[1.0],\"line_color\":[\"white\"],\"month\":[\"2017-05-01\"],\"width\":[0.8],\"x\":[\"2017-05-01\"],\"y\":[0.5611285266457681]}},\"id\":\"b6f2fd27-c1fc-4d0f-bedf-6300b0e531f9\",\"type\":\"ColumnDataSource\"},{\"attributes\":{\"callback\":null,\"column_names\":[\"x\",\"y\",\"width\",\"height\",\"color\",\"fill_alpha\",\"line_color\",\"line_alpha\",\"label\"],\"data\":{\"chart_index\":[{\"class\":\"pro\",\"month\":\"2017-06-01\"}],\"class\":[\"pro\"],\"color\":[\"#4daf4a\"],\"fill_alpha\":[0.8],\"height\":[0.20480404551201012],\"label\":[{\"class\":\"pro\",\"month\":\"2017-06-01\"}],\"line_alpha\":[1.0],\"line_color\":[\"white\"],\"month\":[\"2017-06-01\"],\"width\":[0.8],\"x\":[\"2017-06-01\"],\"y\":[0.8975979772439949]}},\"id\":\"fcc779fa-a03c-4919-b1a8-dd5c7fcd8d67\",\"type\":\"ColumnDataSource\"},{\"attributes\":{\"callback\":null,\"column_names\":[\"x\",\"y\",\"width\",\"height\",\"color\",\"fill_alpha\",\"line_color\",\"line_alpha\",\"label\"],\"data\":{\"chart_index\":[{\"class\":\"pro\",\"month\":\"2017-05-01\"}],\"class\":[\"pro\"],\"color\":[\"#4daf4a\"],\"fill_alpha\":[0.8],\"height\":[0.19853709508881923],\"label\":[{\"class\":\"pro\",\"month\":\"2017-05-01\"}],\"line_alpha\":[1.0],\"line_color\":[\"white\"],\"month\":[\"2017-05-01\"],\"width\":[0.8],\"x\":[\"2017-05-01\"],\"y\":[0.9007314524555904]}},\"id\":\"4ec3ef03-10be-49e1-b738-057a002b4b93\",\"type\":\"ColumnDataSource\"},{\"attributes\":{\"data_source\":{\"id\":\"b6f2fd27-c1fc-4d0f-bedf-6300b0e531f9\",\"type\":\"ColumnDataSource\"},\"glyph\":{\"id\":\"652d02e6-7343-4a8d-9ef0-cfe339b102b7\",\"type\":\"Rect\"},\"hover_glyph\":null,\"muted_glyph\":null},\"id\":\"a5cea4e4-bdb3-47b0-bd4e-4703932cd312\",\"type\":\"GlyphRenderer\"},{\"attributes\":{\"callback\":null,\"column_names\":[\"x\",\"y\",\"width\",\"height\",\"color\",\"fill_alpha\",\"line_color\",\"line_alpha\",\"label\"],\"data\":{\"chart_index\":[{\"class\":\"pro\",\"month\":\"2017-07-01\"}],\"class\":[\"pro\"],\"color\":[\"#4daf4a\"],\"fill_alpha\":[0.8],\"height\":[0.17763157894736842],\"label\":[{\"class\":\"pro\",\"month\":\"2017-07-01\"}],\"line_alpha\":[1.0],\"line_color\":[\"white\"],\"month\":[\"2017-07-01\"],\"width\":[0.8],\"x\":[\"2017-07-01\"],\"y\":[0.9111842105263158]}},\"id\":\"371c62b8-3898-4783-a9a4-7d03ca14ba01\",\"type\":\"ColumnDataSource\"},{\"attributes\":{\"callback\":null,\"column_names\":[\"x\",\"y\",\"width\",\"height\",\"color\",\"fill_alpha\",\"line_color\",\"line_alpha\",\"label\"],\"data\":{\"chart_index\":[{\"class\":\"neu\",\"month\":\"2017-07-01\"}],\"class\":[\"neu\"],\"color\":[\"#377eb8\"],\"fill_alpha\":[0.8],\"height\":[0.5285087719298246],\"label\":[{\"class\":\"neu\",\"month\":\"2017-07-01\"}],\"line_alpha\":[1.0],\"line_color\":[\"white\"],\"month\":[\"2017-07-01\"],\"width\":[0.8],\"x\":[\"2017-07-01\"],\"y\":[0.5581140350877194]}},\"id\":\"02a4e56a-0232-40fa-a0b4-c79796664f6d\",\"type\":\"ColumnDataSource\"},{\"attributes\":{\"callback\":null,\"column_names\":[\"x\",\"y\",\"width\",\"height\",\"color\",\"fill_alpha\",\"line_color\",\"line_alpha\",\"label\"],\"data\":{\"chart_index\":[{\"class\":\"pro\",\"month\":\"2017-08-01\"}],\"class\":[\"pro\"],\"color\":[\"#4daf4a\"],\"fill_alpha\":[0.8],\"height\":[0.1891891891891892],\"label\":[{\"class\":\"pro\",\"month\":\"2017-08-01\"}],\"line_alpha\":[1.0],\"line_color\":[\"white\"],\"month\":[\"2017-08-01\"],\"width\":[0.8],\"x\":[\"2017-08-01\"],\"y\":[0.9054054054054054]}},\"id\":\"3be58ba1-6115-4a58-9b34-9a52712ccbe7\",\"type\":\"ColumnDataSource\"},{\"attributes\":{\"callback\":null,\"column_names\":[\"x\",\"y\",\"width\",\"height\",\"color\",\"fill_alpha\",\"line_color\",\"line_alpha\",\"label\"],\"data\":{\"chart_index\":[{\"class\":\"neu\",\"month\":\"2017-08-01\"}],\"class\":[\"neu\"],\"color\":[\"#377eb8\"],\"fill_alpha\":[0.8],\"height\":[0.44015444015444016],\"label\":[{\"class\":\"neu\",\"month\":\"2017-08-01\"}],\"line_alpha\":[1.0],\"line_color\":[\"white\"],\"month\":[\"2017-08-01\"],\"width\":[0.8],\"x\":[\"2017-08-01\"],\"y\":[0.5907335907335907]}},\"id\":\"68f6fd11-acd2-4253-938c-71bca59002e5\",\"type\":\"ColumnDataSource\"},{\"attributes\":{\"callback\":null,\"column_names\":[\"x\",\"y\",\"width\",\"height\",\"color\",\"fill_alpha\",\"line_color\",\"line_alpha\",\"label\"],\"data\":{\"chart_index\":[{\"class\":\"pro\",\"month\":\"2017-09-01\"}],\"class\":[\"pro\"],\"color\":[\"#4daf4a\"],\"fill_alpha\":[0.8],\"height\":[0.19900497512437812],\"label\":[{\"class\":\"pro\",\"month\":\"2017-09-01\"}],\"line_alpha\":[1.0],\"line_color\":[\"white\"],\"month\":[\"2017-09-01\"],\"width\":[0.8],\"x\":[\"2017-09-01\"],\"y\":[0.900497512437811]}},\"id\":\"6ba7f80b-a1c9-4fed-b489-93645a2edf73\",\"type\":\"ColumnDataSource\"},{\"attributes\":{\"fill_alpha\":{\"field\":\"fill_alpha\"},\"fill_color\":{\"field\":\"color\"},\"height\":{\"field\":\"height\",\"units\":\"data\"},\"line_color\":{\"field\":\"line_color\"},\"width\":{\"field\":\"width\",\"units\":\"data\"},\"x\":{\"field\":\"x\"},\"y\":{\"field\":\"y\"}},\"id\":\"b1182699-e327-4e51-802e-8ed47a744b23\",\"type\":\"Rect\"},{\"attributes\":{\"callback\":null,\"column_names\":[\"x\",\"y\",\"width\",\"height\",\"color\",\"fill_alpha\",\"line_color\",\"line_alpha\",\"label\"],\"data\":{\"chart_index\":[{\"class\":\"neu\",\"month\":\"2017-09-01\"}],\"class\":[\"neu\"],\"color\":[\"#377eb8\"],\"fill_alpha\":[0.8],\"height\":[0.4626865671641791],\"label\":[{\"class\":\"neu\",\"month\":\"2017-09-01\"}],\"line_alpha\":[1.0],\"line_color\":[\"white\"],\"month\":[\"2017-09-01\"],\"width\":[0.8],\"x\":[\"2017-09-01\"],\"y\":[0.5696517412935324]}},\"id\":\"ac1e86c7-20c2-41f6-b7a5-40977cebef81\",\"type\":\"ColumnDataSource\"},{\"attributes\":{\"axis_label\":\"percent\",\"formatter\":{\"id\":\"ec621c81-c505-46ea-be2c-0a86a945493e\",\"type\":\"NumeralTickFormatter\"},\"plot\":{\"id\":\"d9d39ba2-ff94-42ae-a3b6-f000d257d52d\",\"subtype\":\"Chart\",\"type\":\"Plot\"},\"ticker\":{\"id\":\"528462a3-42f1-46a5-80de-44ab98595d1b\",\"type\":\"BasicTicker\"}},\"id\":\"090ab56f-93c9-424d-8b9c-5d33c83c72aa\",\"type\":\"LinearAxis\"},{\"attributes\":{\"fill_alpha\":{\"field\":\"fill_alpha\"},\"fill_color\":{\"field\":\"color\"},\"height\":{\"field\":\"height\",\"units\":\"data\"},\"line_color\":{\"field\":\"line_color\"},\"width\":{\"field\":\"width\",\"units\":\"data\"},\"x\":{\"field\":\"x\"},\"y\":{\"field\":\"y\"}},\"id\":\"62ceff8f-7548-4ef2-acf0-bb27d436c7ad\",\"type\":\"Rect\"},{\"attributes\":{\"callback\":null,\"end\":0,\"start\":-30},\"id\":\"b28737d5-bb5d-4977-bb62-9a4116bfad01\",\"type\":\"Range1d\"},{\"attributes\":{},\"id\":\"528462a3-42f1-46a5-80de-44ab98595d1b\",\"type\":\"BasicTicker\"},{\"attributes\":{},\"id\":\"4cf0df46-2d94-4ad4-9cc7-d0346978c61a\",\"type\":\"CategoricalScale\"},{\"attributes\":{\"callback\":null,\"column_names\":[\"x\",\"y\",\"width\",\"height\",\"color\",\"fill_alpha\",\"line_color\",\"line_alpha\",\"label\"],\"data\":{\"chart_index\":[{\"class\":\"neu\",\"month\":\"2017-02-01\"}],\"class\":[\"neu\"],\"color\":[\"#377eb8\"],\"fill_alpha\":[0.8],\"height\":[0.45036764705882354],\"label\":[{\"class\":\"neu\",\"month\":\"2017-02-01\"}],\"line_alpha\":[1.0],\"line_color\":[\"white\"],\"month\":[\"2017-02-01\"],\"width\":[0.8],\"x\":[\"2017-02-01\"],\"y\":[0.5836397058823529]}},\"id\":\"dd8dd8b1-1099-40a3-8010-e5b9428d08ba\",\"type\":\"ColumnDataSource\"},{\"attributes\":{\"dimension\":1,\"plot\":{\"id\":\"d9d39ba2-ff94-42ae-a3b6-f000d257d52d\",\"subtype\":\"Chart\",\"type\":\"Plot\"},\"ticker\":{\"id\":\"528462a3-42f1-46a5-80de-44ab98595d1b\",\"type\":\"BasicTicker\"}},\"id\":\"fe738867-5db1-4bd9-bd15-519f651169aa\",\"type\":\"Grid\"},{\"attributes\":{\"callback\":null,\"column_names\":[\"x\",\"y\"],\"data\":{\"x\":[\"2016-04-01\",\"2016-05-01\",\"2016-06-01\",\"2016-07-01\",\"2016-08-01\",\"2016-09-01\",\"2016-10-01\",\"2016-11-01\",\"2016-12-01\",\"2017-01-01\",\"2017-02-01\",\"2017-03-01\",\"2017-04-01\",\"2017-05-01\",\"2017-06-01\",\"2017-07-01\",\"2017-08-01\",\"2017-09-01\"],\"y\":{\"__ndarray__\":\"XI/C9SjcNsBmZmZmZuY4wOxRuB6FazLAAAAAAABANsA9CtejcL04wHE9Ctej8DPAj8L1KFxPMMDhehSuR2EzwK5H4XoULjPAFK5H4XoUNMB7FK5H4bowwHsUrkfhei3ACtejcD0KFMD2KFyPwnUowEjhehSuRynAPQrXo3A9J8BmZmZmZiYywFyPwvUo3CvA\",\"dtype\":\"float64\",\"shape\":[18]}}},\"id\":\"04623bcd-c0e2-474d-890d-66e98693c151\",\"type\":\"ColumnDataSource\"},{\"attributes\":{\"fill_alpha\":{\"field\":\"fill_alpha\"},\"fill_color\":{\"field\":\"color\"},\"height\":{\"field\":\"height\",\"units\":\"data\"},\"line_color\":{\"field\":\"line_color\"},\"width\":{\"field\":\"width\",\"units\":\"data\"},\"x\":{\"field\":\"x\"},\"y\":{\"field\":\"y\"}},\"id\":\"8bb65d88-3a00-48c6-9ea0-4ace6fc754fa\",\"type\":\"Rect\"},{\"attributes\":{\"label\":{\"value\":\"det\"},\"renderers\":[{\"id\":\"b5f4b821-ae0a-4a18-b602-57ce3749e288\",\"type\":\"GlyphRenderer\"}]},\"id\":\"b3e0ffaa-fe1e-45bd-bec1-4046e19ccd15\",\"type\":\"LegendItem\"},{\"attributes\":{\"callback\":null,\"column_names\":[\"x\",\"y\"],\"data\":{\"x\":[\"2016-04-01\",\"2016-05-01\",\"2016-06-01\",\"2016-07-01\",\"2016-08-01\",\"2016-09-01\",\"2016-10-01\",\"2016-11-01\",\"2016-12-01\",\"2017-01-01\",\"2017-02-01\",\"2017-03-01\",\"2017-04-01\",\"2017-05-01\",\"2017-06-01\",\"2017-07-01\",\"2017-08-01\",\"2017-09-01\"],\"y\":{\"__ndarray__\":\"XI/C9SjcNsBmZmZmZuY4wOxRuB6FazLAAAAAAABANsA9CtejcL04wHE9Ctej8DPAj8L1KFxPMMDhehSuR2EzwK5H4XoULjPAFK5H4XoUNMB7FK5H4bowwHsUrkfhei3ACtejcD0KFMD2KFyPwnUowEjhehSuRynAPQrXo3A9J8BmZmZmZiYywFyPwvUo3CvA\",\"dtype\":\"float64\",\"shape\":[18]}}},\"id\":\"f5226415-30af-4a04-ad71-2f0bfe658f57\",\"type\":\"ColumnDataSource\"},{\"attributes\":{\"data_source\":{\"id\":\"4ec3ef03-10be-49e1-b738-057a002b4b93\",\"type\":\"ColumnDataSource\"},\"glyph\":{\"id\":\"b1182699-e327-4e51-802e-8ed47a744b23\",\"type\":\"Rect\"},\"hover_glyph\":null,\"muted_glyph\":null},\"id\":\"07a8b2e4-72b1-4bde-9f29-557b5a471b0f\",\"type\":\"GlyphRenderer\"},{\"attributes\":{\"callback\":null,\"column_names\":[\"x\",\"y\",\"width\",\"height\",\"color\",\"fill_alpha\",\"line_color\",\"line_alpha\",\"label\"],\"data\":{\"chart_index\":[{\"class\":\"det\",\"month\":\"2017-09-01\"}],\"class\":[\"det\"],\"color\":[\"#e41a1c\"],\"fill_alpha\":[0.8],\"height\":[0.3383084577114428],\"label\":[{\"class\":\"det\",\"month\":\"2017-09-01\"}],\"line_alpha\":[1.0],\"line_color\":[\"white\"],\"month\":[\"2017-09-01\"],\"width\":[0.8],\"x\":[\"2017-09-01\"],\"y\":[0.1691542288557214]}},\"id\":\"a499edb2-dc8c-440e-9ea8-ea8fb1364b8e\",\"type\":\"ColumnDataSource\"},{\"attributes\":{\"active_drag\":\"auto\",\"active_inspect\":\"auto\",\"active_scroll\":\"auto\",\"active_tap\":\"auto\",\"tools\":[{\"id\":\"594a8f7d-d19e-404e-bfe1-687bb89d37c4\",\"type\":\"PanTool\"},{\"id\":\"5aeabc3f-6efc-4964-bd1b-7fa8698cf3da\",\"type\":\"WheelZoomTool\"},{\"id\":\"ca188e58-4510-4daf-9328-a0eb330af74d\",\"type\":\"BoxZoomTool\"},{\"id\":\"79b39e17-a267-4a47-adcd-a3fe69aad6ac\",\"type\":\"SaveTool\"},{\"id\":\"98ad0bbd-a8a6-436a-836f-c8246b383dfa\",\"type\":\"ResetTool\"},{\"id\":\"927b596a-8758-4dfc-80f6-4d0867195a95\",\"type\":\"HelpTool\"}]},\"id\":\"794bc734-299c-4dcc-a388-0db66f7ff622\",\"type\":\"Toolbar\"},{\"attributes\":{\"callback\":null,\"end\":1.05},\"id\":\"ebd7b853-9eb4-4407-b395-e11f5c0abdb7\",\"type\":\"Range1d\"},{\"attributes\":{\"fill_alpha\":{\"field\":\"fill_alpha\"},\"fill_color\":{\"field\":\"color\"},\"height\":{\"field\":\"height\",\"units\":\"data\"},\"line_color\":{\"field\":\"line_color\"},\"width\":{\"field\":\"width\",\"units\":\"data\"},\"x\":{\"field\":\"x\"},\"y\":{\"field\":\"y\"}},\"id\":\"1f354e29-27f3-4ee7-ae88-cc326e4a339d\",\"type\":\"Rect\"},{\"attributes\":{\"plot\":null,\"text\":\"NPS BY MONTH\"},\"id\":\"69347cb5-abfb-4249-96f0-35b99d38ebf4\",\"type\":\"Title\"},{\"attributes\":{\"data_source\":{\"id\":\"f0b49e42-f6f1-47c6-92af-914483e1da16\",\"type\":\"ColumnDataSource\"},\"glyph\":{\"id\":\"63d5e886-6837-4e79-8509-657cc8635b79\",\"type\":\"Rect\"},\"hover_glyph\":null,\"muted_glyph\":null},\"id\":\"71b04d92-a1a7-4c67-89dd-a7a7cae6c413\",\"type\":\"GlyphRenderer\"},{\"attributes\":{},\"id\":\"bbd0fd6d-1f80-4aa0-a4fd-840a01ffe32d\",\"type\":\"LinearScale\"},{\"attributes\":{\"data_source\":{\"id\":\"0fdfbe07-6d8c-4eaf-969d-c9913f6c8015\",\"type\":\"ColumnDataSource\"},\"glyph\":{\"id\":\"ed558eae-dfbe-4bad-987c-65d710037539\",\"type\":\"Rect\"},\"hover_glyph\":null,\"muted_glyph\":null},\"id\":\"76a5e77b-659d-4528-a6ff-c23917053611\",\"type\":\"GlyphRenderer\"},{\"attributes\":{\"bottom_units\":\"screen\",\"fill_alpha\":{\"value\":0.5},\"fill_color\":{\"value\":\"lightgrey\"},\"left_units\":\"screen\",\"level\":\"overlay\",\"line_alpha\":{\"value\":1.0},\"line_color\":{\"value\":\"black\"},\"line_dash\":[4,4],\"line_width\":{\"value\":2},\"plot\":null,\"render_mode\":\"css\",\"right_units\":\"screen\",\"top_units\":\"screen\"},\"id\":\"65137cf0-a2d8-47e5-b7cf-7dfedf939b5b\",\"type\":\"BoxAnnotation\"},{\"attributes\":{\"data_source\":{\"id\":\"07820c04-172b-41b8-a07d-367613314c15\",\"type\":\"ColumnDataSource\"},\"glyph\":{\"id\":\"7d9307db-4fb1-4180-a18f-b180e8d2aec3\",\"type\":\"Rect\"},\"hover_glyph\":null,\"muted_glyph\":null},\"id\":\"d83ac31c-8918-41e4-b644-c446831ace1d\",\"type\":\"GlyphRenderer\"},{\"attributes\":{\"data_source\":{\"id\":\"c532afa2-b678-49fb-8a62-77c81143ec96\",\"type\":\"ColumnDataSource\"},\"glyph\":{\"id\":\"baecd7f6-6c2a-482f-ba23-aff72d7253f1\",\"type\":\"Rect\"},\"hover_glyph\":null,\"muted_glyph\":null},\"id\":\"4aff8f38-8385-4e8c-857c-d40d2c54e3aa\",\"type\":\"GlyphRenderer\"},{\"attributes\":{\"format\":\"0.0%\"},\"id\":\"ec621c81-c505-46ea-be2c-0a86a945493e\",\"type\":\"NumeralTickFormatter\"},{\"attributes\":{\"data_source\":{\"id\":\"ebdf4105-fc2a-4964-94e4-f9b7efdbd1dd\",\"type\":\"ColumnDataSource\"},\"glyph\":{\"id\":\"43ae4ddd-dd86-4b47-abb8-4de93d38d73a\",\"type\":\"Rect\"},\"hover_glyph\":null,\"muted_glyph\":null},\"id\":\"7d1b88a0-df30-42b1-83c0-f5789f82aa7d\",\"type\":\"GlyphRenderer\"},{\"attributes\":{\"callback\":null,\"column_names\":[\"x\",\"y\",\"width\",\"height\",\"color\",\"fill_alpha\",\"line_color\",\"line_alpha\",\"label\"],\"data\":{\"chart_index\":[{\"class\":\"det\",\"month\":\"2017-06-01\"}],\"class\":[\"det\"],\"color\":[\"#e41a1c\"],\"fill_alpha\":[0.8],\"height\":[0.33122629582806573],\"label\":[{\"class\":\"det\",\"month\":\"2017-06-01\"}],\"line_alpha\":[1.0],\"line_color\":[\"white\"],\"month\":[\"2017-06-01\"],\"width\":[0.8],\"x\":[\"2017-06-01\"],\"y\":[0.16561314791403287]}},\"id\":\"c532afa2-b678-49fb-8a62-77c81143ec96\",\"type\":\"ColumnDataSource\"},{\"attributes\":{\"plot\":{\"id\":\"d9d39ba2-ff94-42ae-a3b6-f000d257d52d\",\"subtype\":\"Chart\",\"type\":\"Plot\"}},\"id\":\"594a8f7d-d19e-404e-bfe1-687bb89d37c4\",\"type\":\"PanTool\"},{\"attributes\":{\"data_source\":{\"id\":\"04623bcd-c0e2-474d-890d-66e98693c151\",\"type\":\"ColumnDataSource\"},\"glyph\":{\"id\":\"a1942142-f085-490b-8e72-021e3ae6e466\",\"type\":\"Line\"},\"hover_glyph\":null,\"muted_glyph\":null,\"nonselection_glyph\":{\"id\":\"3c45eac1-f0bc-46fc-9b11-36c68a060469\",\"type\":\"Line\"},\"selection_glyph\":null,\"y_range_name\":\"percent\"},\"id\":\"5c0cda3c-f6e7-4d6c-ab79-0878eceb09b6\",\"type\":\"GlyphRenderer\"},{\"attributes\":{\"overlay\":{\"id\":\"65137cf0-a2d8-47e5-b7cf-7dfedf939b5b\",\"type\":\"BoxAnnotation\"},\"plot\":{\"id\":\"d9d39ba2-ff94-42ae-a3b6-f000d257d52d\",\"subtype\":\"Chart\",\"type\":\"Plot\"}},\"id\":\"ca188e58-4510-4daf-9328-a0eb330af74d\",\"type\":\"BoxZoomTool\"},{\"attributes\":{\"data_source\":{\"id\":\"e7d8a47d-727f-483f-8c55-e5b620d7cf2a\",\"type\":\"ColumnDataSource\"},\"glyph\":{\"id\":\"1ef94189-39d3-49bd-ad38-0c4060b3bb2c\",\"type\":\"Rect\"},\"hover_glyph\":null,\"muted_glyph\":null},\"id\":\"704b2a83-bec5-490a-975c-90b9e430ded7\",\"type\":\"GlyphRenderer\"},{\"attributes\":{},\"id\":\"677649a9-f8e3-4114-803d-4e8db9b18cdd\",\"type\":\"BasicTicker\"},{\"attributes\":{\"plot\":{\"id\":\"d9d39ba2-ff94-42ae-a3b6-f000d257d52d\",\"subtype\":\"Chart\",\"type\":\"Plot\"}},\"id\":\"5aeabc3f-6efc-4964-bd1b-7fa8698cf3da\",\"type\":\"WheelZoomTool\"},{\"attributes\":{\"data_source\":{\"id\":\"02a4e56a-0232-40fa-a0b4-c79796664f6d\",\"type\":\"ColumnDataSource\"},\"glyph\":{\"id\":\"ce5e7bc2-d48b-4296-94d6-22b6b48ed190\",\"type\":\"Rect\"},\"hover_glyph\":null,\"muted_glyph\":null},\"id\":\"1aebe084-6997-4e07-9f0e-ee8b01dde352\",\"type\":\"GlyphRenderer\"},{\"attributes\":{\"callback\":null,\"column_names\":[\"x\",\"y\",\"width\",\"height\",\"color\",\"fill_alpha\",\"line_color\",\"line_alpha\",\"label\"],\"data\":{\"chart_index\":[{\"class\":\"neu\",\"month\":\"2016-04-01\"}],\"class\":[\"neu\"],\"color\":[\"#377eb8\"],\"fill_alpha\":[0.8],\"height\":[0.3736059479553903],\"label\":[{\"class\":\"neu\",\"month\":\"2016-04-01\"}],\"line_alpha\":[1.0],\"line_color\":[\"white\"],\"month\":[\"2016-04-01\"],\"width\":[0.8],\"x\":[\"2016-04-01\"],\"y\":[0.6143122676579925]}},\"id\":\"ad6a75ca-1a09-4b77-b120-5a9b6127afb1\",\"type\":\"ColumnDataSource\"},{\"attributes\":{\"fill_alpha\":{\"field\":\"fill_alpha\"},\"fill_color\":{\"field\":\"color\"},\"height\":{\"field\":\"height\",\"units\":\"data\"},\"line_color\":{\"field\":\"line_color\"},\"width\":{\"field\":\"width\",\"units\":\"data\"},\"x\":{\"field\":\"x\"},\"y\":{\"field\":\"y\"}},\"id\":\"452c01c3-f529-4ac2-92fa-1834c6ed9280\",\"type\":\"Rect\"},{\"attributes\":{\"plot\":{\"id\":\"d9d39ba2-ff94-42ae-a3b6-f000d257d52d\",\"subtype\":\"Chart\",\"type\":\"Plot\"}},\"id\":\"98ad0bbd-a8a6-436a-836f-c8246b383dfa\",\"type\":\"ResetTool\"},{\"attributes\":{\"data_source\":{\"id\":\"3e02053b-10b5-4137-b22b-a435ce6a2233\",\"type\":\"ColumnDataSource\"},\"glyph\":{\"id\":\"452c01c3-f529-4ac2-92fa-1834c6ed9280\",\"type\":\"Rect\"},\"hover_glyph\":null,\"muted_glyph\":null},\"id\":\"2153e7e1-ce99-4ad3-b8aa-7556249e939b\",\"type\":\"GlyphRenderer\"},{\"attributes\":{\"data_source\":{\"id\":\"b78be818-a4ff-49dc-bc37-015eaf1bc717\",\"type\":\"ColumnDataSource\"},\"glyph\":{\"id\":\"e11ffb30-2ca3-4bfd-aefd-d0445afa810d\",\"type\":\"Rect\"},\"hover_glyph\":null,\"muted_glyph\":null},\"id\":\"4436e672-1eeb-4fa3-bfbb-dececc6d1114\",\"type\":\"GlyphRenderer\"},{\"attributes\":{\"plot\":{\"id\":\"d9d39ba2-ff94-42ae-a3b6-f000d257d52d\",\"subtype\":\"Chart\",\"type\":\"Plot\"}},\"id\":\"79b39e17-a267-4a47-adcd-a3fe69aad6ac\",\"type\":\"SaveTool\"},{\"attributes\":{\"data_source\":{\"id\":\"f69bea57-7027-4b5e-91cb-7902e13797b8\",\"type\":\"ColumnDataSource\"},\"glyph\":{\"id\":\"d4fd1e3f-e470-4e74-9b71-f5f62250adb0\",\"type\":\"Rect\"},\"hover_glyph\":null,\"muted_glyph\":null},\"id\":\"9119e879-b52a-4649-92d9-801f17292b60\",\"type\":\"GlyphRenderer\"},{\"attributes\":{\"plot\":{\"id\":\"d9d39ba2-ff94-42ae-a3b6-f000d257d52d\",\"subtype\":\"Chart\",\"type\":\"Plot\"}},\"id\":\"927b596a-8758-4dfc-80f6-4d0867195a95\",\"type\":\"HelpTool\"},{\"attributes\":{\"fill_alpha\":{\"field\":\"fill_alpha\"},\"fill_color\":{\"field\":\"color\"},\"height\":{\"field\":\"height\",\"units\":\"data\"},\"line_color\":{\"field\":\"line_color\"},\"width\":{\"field\":\"width\",\"units\":\"data\"},\"x\":{\"field\":\"x\"},\"y\":{\"field\":\"y\"}},\"id\":\"e11ffb30-2ca3-4bfd-aefd-d0445afa810d\",\"type\":\"Rect\"},{\"attributes\":{\"fill_alpha\":{\"field\":\"fill_alpha\"},\"fill_color\":{\"field\":\"color\"},\"height\":{\"field\":\"height\",\"units\":\"data\"},\"line_color\":{\"field\":\"line_color\"},\"width\":{\"field\":\"width\",\"units\":\"data\"},\"x\":{\"field\":\"x\"},\"y\":{\"field\":\"y\"}},\"id\":\"df942e68-393d-4af8-a741-716f2a7c97ce\",\"type\":\"Rect\"},{\"attributes\":{\"data_source\":{\"id\":\"e8ff2298-60ad-43c6-a9e2-d75939a7bbc4\",\"type\":\"ColumnDataSource\"},\"glyph\":{\"id\":\"df942e68-393d-4af8-a741-716f2a7c97ce\",\"type\":\"Rect\"},\"hover_glyph\":null,\"muted_glyph\":null},\"id\":\"2d4157c4-fb6f-4db0-9992-0ee1b03ef070\",\"type\":\"GlyphRenderer\"},{\"attributes\":{\"callback\":null,\"column_names\":[\"x\",\"y\",\"width\",\"height\",\"color\",\"fill_alpha\",\"line_color\",\"line_alpha\",\"label\"],\"data\":{\"chart_index\":[{\"class\":\"det\",\"month\":\"2016-06-01\"}],\"class\":[\"det\"],\"color\":[\"#e41a1c\"],\"fill_alpha\":[0.8],\"height\":[0.3815789473684211],\"label\":[{\"class\":\"det\",\"month\":\"2016-06-01\"}],\"line_alpha\":[1.0],\"line_color\":[\"white\"],\"month\":[\"2016-06-01\"],\"width\":[0.8],\"x\":[\"2016-06-01\"],\"y\":[0.19078947368421054]}},\"id\":\"f69bea57-7027-4b5e-91cb-7902e13797b8\",\"type\":\"ColumnDataSource\"},{\"attributes\":{\"fill_alpha\":{\"field\":\"fill_alpha\"},\"fill_color\":{\"field\":\"color\"},\"height\":{\"field\":\"height\",\"units\":\"data\"},\"line_color\":{\"field\":\"line_color\"},\"width\":{\"field\":\"width\",\"units\":\"data\"},\"x\":{\"field\":\"x\"},\"y\":{\"field\":\"y\"}},\"id\":\"b9da7726-d2ca-4211-9ea7-d758ea8fd751\",\"type\":\"Rect\"},{\"attributes\":{\"fill_alpha\":{\"field\":\"fill_alpha\"},\"fill_color\":{\"field\":\"color\"},\"height\":{\"field\":\"height\",\"units\":\"data\"},\"line_color\":{\"field\":\"line_color\"},\"width\":{\"field\":\"width\",\"units\":\"data\"},\"x\":{\"field\":\"x\"},\"y\":{\"field\":\"y\"}},\"id\":\"95dac42d-eaac-464f-b8c1-5212fa40cfa9\",\"type\":\"Rect\"},{\"attributes\":{\"fill_alpha\":{\"field\":\"fill_alpha\"},\"fill_color\":{\"field\":\"color\"},\"height\":{\"field\":\"height\",\"units\":\"data\"},\"line_color\":{\"field\":\"line_color\"},\"width\":{\"field\":\"width\",\"units\":\"data\"},\"x\":{\"field\":\"x\"},\"y\":{\"field\":\"y\"}},\"id\":\"d4fd1e3f-e470-4e74-9b71-f5f62250adb0\",\"type\":\"Rect\"},{\"attributes\":{\"fill_alpha\":{\"field\":\"fill_alpha\"},\"fill_color\":{\"field\":\"color\"},\"height\":{\"field\":\"height\",\"units\":\"data\"},\"line_color\":{\"field\":\"line_color\"},\"width\":{\"field\":\"width\",\"units\":\"data\"},\"x\":{\"field\":\"x\"},\"y\":{\"field\":\"y\"}},\"id\":\"4d8e2ead-c2ff-4723-aacb-ed816ef995db\",\"type\":\"Rect\"},{\"attributes\":{\"fill_alpha\":{\"field\":\"fill_alpha\"},\"fill_color\":{\"field\":\"color\"},\"height\":{\"field\":\"height\",\"units\":\"data\"},\"line_color\":{\"field\":\"line_color\"},\"width\":{\"field\":\"width\",\"units\":\"data\"},\"x\":{\"field\":\"x\"},\"y\":{\"field\":\"y\"}},\"id\":\"2beff6d5-ba1f-41e4-90c3-74cf9d5d4af0\",\"type\":\"Rect\"},{\"attributes\":{\"fill_alpha\":{\"field\":\"fill_alpha\"},\"fill_color\":{\"field\":\"color\"},\"height\":{\"field\":\"height\",\"units\":\"data\"},\"line_color\":{\"field\":\"line_color\"},\"width\":{\"field\":\"width\",\"units\":\"data\"},\"x\":{\"field\":\"x\"},\"y\":{\"field\":\"y\"}},\"id\":\"1f2d7b41-d14c-40d7-bd27-e2408db5d7f6\",\"type\":\"Rect\"},{\"attributes\":{\"data_source\":{\"id\":\"e7f3cbff-513b-4e79-8a84-fb90ca455b88\",\"type\":\"ColumnDataSource\"},\"glyph\":{\"id\":\"b9da7726-d2ca-4211-9ea7-d758ea8fd751\",\"type\":\"Rect\"},\"hover_glyph\":null,\"muted_glyph\":null},\"id\":\"195b2b71-efb0-4398-9e68-e32704e39a0a\",\"type\":\"GlyphRenderer\"},{\"attributes\":{\"data_source\":{\"id\":\"a41c9517-d4ed-4e9a-84aa-6f2dec05148a\",\"type\":\"ColumnDataSource\"},\"glyph\":{\"id\":\"2beff6d5-ba1f-41e4-90c3-74cf9d5d4af0\",\"type\":\"Rect\"},\"hover_glyph\":null,\"muted_glyph\":null},\"id\":\"6ad71087-c68f-4d07-81e0-57701f284f74\",\"type\":\"GlyphRenderer\"},{\"attributes\":{\"fill_alpha\":{\"field\":\"fill_alpha\"},\"fill_color\":{\"field\":\"color\"},\"height\":{\"field\":\"height\",\"units\":\"data\"},\"line_color\":{\"field\":\"line_color\"},\"width\":{\"field\":\"width\",\"units\":\"data\"},\"x\":{\"field\":\"x\"},\"y\":{\"field\":\"y\"}},\"id\":\"44f29768-e2f0-4012-9ce2-5efc76324f38\",\"type\":\"Rect\"},{\"attributes\":{\"data_source\":{\"id\":\"a01dced0-5a60-4a90-a7c6-2ea2e21da963\",\"type\":\"ColumnDataSource\"},\"glyph\":{\"id\":\"95dac42d-eaac-464f-b8c1-5212fa40cfa9\",\"type\":\"Rect\"},\"hover_glyph\":null,\"muted_glyph\":null},\"id\":\"b5f4b821-ae0a-4a18-b602-57ce3749e288\",\"type\":\"GlyphRenderer\"},{\"attributes\":{\"data_source\":{\"id\":\"98f3e30d-7cc4-4716-8f09-aaef702b4cab\",\"type\":\"ColumnDataSource\"},\"glyph\":{\"id\":\"44f29768-e2f0-4012-9ce2-5efc76324f38\",\"type\":\"Rect\"},\"hover_glyph\":null,\"muted_glyph\":null},\"id\":\"3446fb31-951d-4b59-aa8e-7fbd2baeaadd\",\"type\":\"GlyphRenderer\"},{\"attributes\":{\"data_source\":{\"id\":\"fcc779fa-a03c-4919-b1a8-dd5c7fcd8d67\",\"type\":\"ColumnDataSource\"},\"glyph\":{\"id\":\"1f2d7b41-d14c-40d7-bd27-e2408db5d7f6\",\"type\":\"Rect\"},\"hover_glyph\":null,\"muted_glyph\":null},\"id\":\"7b1bc558-3265-41c4-ad19-a95231c62776\",\"type\":\"GlyphRenderer\"},{\"attributes\":{\"fill_alpha\":{\"field\":\"fill_alpha\"},\"fill_color\":{\"field\":\"color\"},\"height\":{\"field\":\"height\",\"units\":\"data\"},\"line_color\":{\"field\":\"line_color\"},\"width\":{\"field\":\"width\",\"units\":\"data\"},\"x\":{\"field\":\"x\"},\"y\":{\"field\":\"y\"}},\"id\":\"9d1db250-c2be-407c-a622-11e2598ec436\",\"type\":\"Rect\"},{\"attributes\":{\"data_source\":{\"id\":\"5cf254f8-82f2-4830-a033-3fb6321194ff\",\"type\":\"ColumnDataSource\"},\"glyph\":{\"id\":\"6aaf9c97-85a6-433f-9840-3d9fb80af6fa\",\"type\":\"Rect\"},\"hover_glyph\":null,\"muted_glyph\":null},\"id\":\"63dfe8a5-6d3a-4f96-a44e-32c5ee0bd904\",\"type\":\"GlyphRenderer\"},{\"attributes\":{\"callback\":null,\"column_names\":[\"x\",\"y\",\"width\",\"height\",\"color\",\"fill_alpha\",\"line_color\",\"line_alpha\",\"label\"],\"data\":{\"chart_index\":[{\"class\":\"det\",\"month\":\"2016-04-01\"}],\"class\":[\"det\"],\"color\":[\"#e41a1c\"],\"fill_alpha\":[0.8],\"height\":[0.4275092936802974],\"label\":[{\"class\":\"det\",\"month\":\"2016-04-01\"}],\"line_alpha\":[1.0],\"line_color\":[\"white\"],\"month\":[\"2016-04-01\"],\"width\":[0.8],\"x\":[\"2016-04-01\"],\"y\":[0.2137546468401487]}},\"id\":\"a01dced0-5a60-4a90-a7c6-2ea2e21da963\",\"type\":\"ColumnDataSource\"},{\"attributes\":{\"fill_alpha\":{\"field\":\"fill_alpha\"},\"fill_color\":{\"field\":\"color\"},\"height\":{\"field\":\"height\",\"units\":\"data\"},\"line_color\":{\"field\":\"line_color\"},\"width\":{\"field\":\"width\",\"units\":\"data\"},\"x\":{\"field\":\"x\"},\"y\":{\"field\":\"y\"}},\"id\":\"65a05954-f8b7-4d40-bd14-fdc68b1f8889\",\"type\":\"Rect\"},{\"attributes\":{\"data_source\":{\"id\":\"50b7b51f-ed72-43d6-a38f-5c56f67bd0b1\",\"type\":\"ColumnDataSource\"},\"glyph\":{\"id\":\"4d8e2ead-c2ff-4723-aacb-ed816ef995db\",\"type\":\"Rect\"},\"hover_glyph\":null,\"muted_glyph\":null},\"id\":\"35ac63b3-1f16-410e-a552-654df2c59b77\",\"type\":\"GlyphRenderer\"},{\"attributes\":{\"fill_alpha\":{\"field\":\"fill_alpha\"},\"fill_color\":{\"field\":\"color\"},\"height\":{\"field\":\"height\",\"units\":\"data\"},\"line_color\":{\"field\":\"line_color\"},\"width\":{\"field\":\"width\",\"units\":\"data\"},\"x\":{\"field\":\"x\"},\"y\":{\"field\":\"y\"}},\"id\":\"14d88f2b-ada4-433f-9fc7-42de4ae6261a\",\"type\":\"Rect\"},{\"attributes\":{\"fill_alpha\":{\"field\":\"fill_alpha\"},\"fill_color\":{\"field\":\"color\"},\"height\":{\"field\":\"height\",\"units\":\"data\"},\"line_color\":{\"field\":\"line_color\"},\"width\":{\"field\":\"width\",\"units\":\"data\"},\"x\":{\"field\":\"x\"},\"y\":{\"field\":\"y\"}},\"id\":\"222a97ca-183c-4568-9c84-fd3ed9d71ba9\",\"type\":\"Rect\"},{\"attributes\":{\"fill_alpha\":{\"field\":\"fill_alpha\"},\"fill_color\":{\"field\":\"color\"},\"height\":{\"field\":\"height\",\"units\":\"data\"},\"line_color\":{\"field\":\"line_color\"},\"width\":{\"field\":\"width\",\"units\":\"data\"},\"x\":{\"field\":\"x\"},\"y\":{\"field\":\"y\"}},\"id\":\"1ef94189-39d3-49bd-ad38-0c4060b3bb2c\",\"type\":\"Rect\"},{\"attributes\":{\"fill_alpha\":{\"field\":\"fill_alpha\"},\"fill_color\":{\"field\":\"color\"},\"height\":{\"field\":\"height\",\"units\":\"data\"},\"line_color\":{\"field\":\"line_color\"},\"width\":{\"field\":\"width\",\"units\":\"data\"},\"x\":{\"field\":\"x\"},\"y\":{\"field\":\"y\"}},\"id\":\"ce5e7bc2-d48b-4296-94d6-22b6b48ed190\",\"type\":\"Rect\"},{\"attributes\":{\"data_source\":{\"id\":\"34a9c3b7-a8c6-447c-99f8-77062e66e3ea\",\"type\":\"ColumnDataSource\"},\"glyph\":{\"id\":\"9d1db250-c2be-407c-a622-11e2598ec436\",\"type\":\"Rect\"},\"hover_glyph\":null,\"muted_glyph\":null},\"id\":\"5213643d-d9e4-4fa0-a28b-d2430f53782e\",\"type\":\"GlyphRenderer\"},{\"attributes\":{\"data_source\":{\"id\":\"56fbedd8-91e0-4a04-8174-cdab28819382\",\"type\":\"ColumnDataSource\"},\"glyph\":{\"id\":\"65a05954-f8b7-4d40-bd14-fdc68b1f8889\",\"type\":\"Rect\"},\"hover_glyph\":null,\"muted_glyph\":null},\"id\":\"c3f42ac1-03d8-44a7-9266-e75f44a91181\",\"type\":\"GlyphRenderer\"},{\"attributes\":{\"fill_alpha\":{\"field\":\"fill_alpha\"},\"fill_color\":{\"field\":\"color\"},\"height\":{\"field\":\"height\",\"units\":\"data\"},\"line_color\":{\"field\":\"line_color\"},\"width\":{\"field\":\"width\",\"units\":\"data\"},\"x\":{\"field\":\"x\"},\"y\":{\"field\":\"y\"}},\"id\":\"ef920c2d-f870-4651-babb-7e3e9e83a0e6\",\"type\":\"Rect\"},{\"attributes\":{\"fill_alpha\":{\"field\":\"fill_alpha\"},\"fill_color\":{\"field\":\"color\"},\"height\":{\"field\":\"height\",\"units\":\"data\"},\"line_color\":{\"field\":\"line_color\"},\"width\":{\"field\":\"width\",\"units\":\"data\"},\"x\":{\"field\":\"x\"},\"y\":{\"field\":\"y\"}},\"id\":\"65105cae-0841-4010-9807-cc424953b614\",\"type\":\"Rect\"},{\"attributes\":{\"callback\":null,\"column_names\":[\"x\",\"y\",\"width\",\"height\",\"color\",\"fill_alpha\",\"line_color\",\"line_alpha\",\"label\"],\"data\":{\"chart_index\":[{\"class\":\"det\",\"month\":\"2017-02-01\"}],\"class\":[\"det\"],\"color\":[\"#e41a1c\"],\"fill_alpha\":[0.8],\"height\":[0.3584558823529412],\"label\":[{\"class\":\"det\",\"month\":\"2017-02-01\"}],\"line_alpha\":[1.0],\"line_color\":[\"white\"],\"month\":[\"2017-02-01\"],\"width\":[0.8],\"x\":[\"2017-02-01\"],\"y\":[0.1792279411764706]}},\"id\":\"56fbedd8-91e0-4a04-8174-cdab28819382\",\"type\":\"ColumnDataSource\"},{\"attributes\":{\"data_source\":{\"id\":\"fbdf6309-3b92-4d31-9ad7-065cc4352098\",\"type\":\"ColumnDataSource\"},\"glyph\":{\"id\":\"6dddbf73-870a-43b8-b3eb-e14abde3e342\",\"type\":\"Rect\"},\"hover_glyph\":null,\"muted_glyph\":null},\"id\":\"b743ae41-0d01-42cd-ad3a-3878f8770881\",\"type\":\"GlyphRenderer\"},{\"attributes\":{\"callback\":null,\"column_names\":[\"x\",\"y\",\"width\",\"height\",\"color\",\"fill_alpha\",\"line_color\",\"line_alpha\",\"label\"],\"data\":{\"chart_index\":[{\"class\":\"det\",\"month\":\"2016-11-01\"}],\"class\":[\"det\"],\"color\":[\"#e41a1c\"],\"fill_alpha\":[0.8],\"height\":[0.3839479392624729],\"label\":[{\"class\":\"det\",\"month\":\"2016-11-01\"}],\"line_alpha\":[1.0],\"line_color\":[\"white\"],\"month\":[\"2016-11-01\"],\"width\":[0.8],\"x\":[\"2016-11-01\"],\"y\":[0.19197396963123645]}},\"id\":\"f449c990-d9ec-4aa7-8ec7-91230a93d4c8\",\"type\":\"ColumnDataSource\"},{\"attributes\":{\"fill_alpha\":{\"field\":\"fill_alpha\"},\"fill_color\":{\"field\":\"color\"},\"height\":{\"field\":\"height\",\"units\":\"data\"},\"line_color\":{\"field\":\"line_color\"},\"width\":{\"field\":\"width\",\"units\":\"data\"},\"x\":{\"field\":\"x\"},\"y\":{\"field\":\"y\"}},\"id\":\"10930ffe-36ba-4018-8b24-cc4579637fec\",\"type\":\"Rect\"},{\"attributes\":{\"data_source\":{\"id\":\"27338e78-54d6-44af-a363-b7e0400e6007\",\"type\":\"ColumnDataSource\"},\"glyph\":{\"id\":\"ef920c2d-f870-4651-babb-7e3e9e83a0e6\",\"type\":\"Rect\"},\"hover_glyph\":null,\"muted_glyph\":null},\"id\":\"08f5dbf7-0f5f-47cf-9c4f-a9d83e786f79\",\"type\":\"GlyphRenderer\"},{\"attributes\":{\"data_source\":{\"id\":\"2d83c502-cef7-4ac8-933c-9b0c18f8a546\",\"type\":\"ColumnDataSource\"},\"glyph\":{\"id\":\"65105cae-0841-4010-9807-cc424953b614\",\"type\":\"Rect\"},\"hover_glyph\":null,\"muted_glyph\":null},\"id\":\"7da0ce68-a2fd-49f6-88cc-7b315386abc4\",\"type\":\"GlyphRenderer\"},{\"attributes\":{\"fill_alpha\":{\"field\":\"fill_alpha\"},\"fill_color\":{\"field\":\"color\"},\"height\":{\"field\":\"height\",\"units\":\"data\"},\"line_color\":{\"field\":\"line_color\"},\"width\":{\"field\":\"width\",\"units\":\"data\"},\"x\":{\"field\":\"x\"},\"y\":{\"field\":\"y\"}},\"id\":\"6dddbf73-870a-43b8-b3eb-e14abde3e342\",\"type\":\"Rect\"},{\"attributes\":{\"data_source\":{\"id\":\"ad6a75ca-1a09-4b77-b120-5a9b6127afb1\",\"type\":\"ColumnDataSource\"},\"glyph\":{\"id\":\"222a97ca-183c-4568-9c84-fd3ed9d71ba9\",\"type\":\"Rect\"},\"hover_glyph\":null,\"muted_glyph\":null},\"id\":\"50fd6f96-358c-437e-aefe-e7f07c6a7bc6\",\"type\":\"GlyphRenderer\"},{\"attributes\":{\"fill_alpha\":{\"field\":\"fill_alpha\"},\"fill_color\":{\"field\":\"color\"},\"height\":{\"field\":\"height\",\"units\":\"data\"},\"line_color\":{\"field\":\"line_color\"},\"width\":{\"field\":\"width\",\"units\":\"data\"},\"x\":{\"field\":\"x\"},\"y\":{\"field\":\"y\"}},\"id\":\"83428091-2c5a-4b2d-83cf-07ad126f5cc9\",\"type\":\"Rect\"},{\"attributes\":{\"callback\":null,\"column_names\":[\"x\",\"y\",\"width\",\"height\",\"color\",\"fill_alpha\",\"line_color\",\"line_alpha\",\"label\"],\"data\":{\"chart_index\":[{\"class\":\"det\",\"month\":\"2017-05-01\"}],\"class\":[\"det\"],\"color\":[\"#e41a1c\"],\"fill_alpha\":[0.8],\"height\":[0.3207941483803553],\"label\":[{\"class\":\"det\",\"month\":\"2017-05-01\"}],\"line_alpha\":[1.0],\"line_color\":[\"white\"],\"month\":[\"2017-05-01\"],\"width\":[0.8],\"x\":[\"2017-05-01\"],\"y\":[0.16039707419017765]}},\"id\":\"8aec5287-085c-4aa1-8069-c853c0018fdf\",\"type\":\"ColumnDataSource\"},{\"attributes\":{\"callback\":null,\"factors\":[\"2016-04-01\",\"2016-05-01\",\"2016-06-01\",\"2016-07-01\",\"2016-08-01\",\"2016-09-01\",\"2016-10-01\",\"2016-11-01\",\"2016-12-01\",\"2017-01-01\",\"2017-02-01\",\"2017-03-01\",\"2017-04-01\",\"2017-05-01\",\"2017-06-01\",\"2017-07-01\",\"2017-08-01\",\"2017-09-01\"]},\"id\":\"abd9da13-39e7-49bf-99e2-4d42640027b1\",\"type\":\"FactorRange\"},{\"attributes\":{\"fill_alpha\":{\"field\":\"fill_alpha\"},\"fill_color\":{\"field\":\"color\"},\"height\":{\"field\":\"height\",\"units\":\"data\"},\"line_color\":{\"field\":\"line_color\"},\"width\":{\"field\":\"width\",\"units\":\"data\"},\"x\":{\"field\":\"x\"},\"y\":{\"field\":\"y\"}},\"id\":\"63d5e886-6837-4e79-8509-657cc8635b79\",\"type\":\"Rect\"},{\"attributes\":{\"fill_alpha\":{\"field\":\"fill_alpha\"},\"fill_color\":{\"field\":\"color\"},\"height\":{\"field\":\"height\",\"units\":\"data\"},\"line_color\":{\"field\":\"line_color\"},\"width\":{\"field\":\"width\",\"units\":\"data\"},\"x\":{\"field\":\"x\"},\"y\":{\"field\":\"y\"}},\"id\":\"7d9307db-4fb1-4180-a18f-b180e8d2aec3\",\"type\":\"Rect\"},{\"attributes\":{\"fill_alpha\":{\"field\":\"fill_alpha\"},\"fill_color\":{\"field\":\"color\"},\"height\":{\"field\":\"height\",\"units\":\"data\"},\"line_color\":{\"field\":\"line_color\"},\"width\":{\"field\":\"width\",\"units\":\"data\"},\"x\":{\"field\":\"x\"},\"y\":{\"field\":\"y\"}},\"id\":\"ed558eae-dfbe-4bad-987c-65d710037539\",\"type\":\"Rect\"},{\"attributes\":{\"data_source\":{\"id\":\"f449c990-d9ec-4aa7-8ec7-91230a93d4c8\",\"type\":\"ColumnDataSource\"},\"glyph\":{\"id\":\"66d74521-e26f-4ec4-a089-c9eac5459e5e\",\"type\":\"Rect\"},\"hover_glyph\":null,\"muted_glyph\":null},\"id\":\"4e391548-dd60-4ee0-80db-563e457615cf\",\"type\":\"GlyphRenderer\"},{\"attributes\":{\"fill_alpha\":{\"field\":\"fill_alpha\"},\"fill_color\":{\"field\":\"color\"},\"height\":{\"field\":\"height\",\"units\":\"data\"},\"line_color\":{\"field\":\"line_color\"},\"width\":{\"field\":\"width\",\"units\":\"data\"},\"x\":{\"field\":\"x\"},\"y\":{\"field\":\"y\"}},\"id\":\"74384d88-f5e0-4d0a-a8e5-bd31cac285f6\",\"type\":\"Rect\"},{\"attributes\":{\"fill_alpha\":{\"field\":\"fill_alpha\"},\"fill_color\":{\"field\":\"color\"},\"height\":{\"field\":\"height\",\"units\":\"data\"},\"line_color\":{\"field\":\"line_color\"},\"width\":{\"field\":\"width\",\"units\":\"data\"},\"x\":{\"field\":\"x\"},\"y\":{\"field\":\"y\"}},\"id\":\"96ca1856-dc58-4eb4-81e5-c07895768555\",\"type\":\"Rect\"},{\"attributes\":{\"data_source\":{\"id\":\"371c62b8-3898-4783-a9a4-7d03ca14ba01\",\"type\":\"ColumnDataSource\"},\"glyph\":{\"id\":\"96ca1856-dc58-4eb4-81e5-c07895768555\",\"type\":\"Rect\"},\"hover_glyph\":null,\"muted_glyph\":null},\"id\":\"10ee7084-216b-49c8-907c-6339f108da55\",\"type\":\"GlyphRenderer\"},{\"attributes\":{\"fill_alpha\":{\"field\":\"fill_alpha\"},\"fill_color\":{\"field\":\"color\"},\"height\":{\"field\":\"height\",\"units\":\"data\"},\"line_color\":{\"field\":\"line_color\"},\"width\":{\"field\":\"width\",\"units\":\"data\"},\"x\":{\"field\":\"x\"},\"y\":{\"field\":\"y\"}},\"id\":\"43ae4ddd-dd86-4b47-abb8-4de93d38d73a\",\"type\":\"Rect\"},{\"attributes\":{\"fill_alpha\":{\"field\":\"fill_alpha\"},\"fill_color\":{\"field\":\"color\"},\"height\":{\"field\":\"height\",\"units\":\"data\"},\"line_color\":{\"field\":\"line_color\"},\"width\":{\"field\":\"width\",\"units\":\"data\"},\"x\":{\"field\":\"x\"},\"y\":{\"field\":\"y\"}},\"id\":\"caf780e1-141f-49a4-ba3e-cb57522f18bb\",\"type\":\"Rect\"},{\"attributes\":{\"data_source\":{\"id\":\"dd8dd8b1-1099-40a3-8010-e5b9428d08ba\",\"type\":\"ColumnDataSource\"},\"glyph\":{\"id\":\"10930ffe-36ba-4018-8b24-cc4579637fec\",\"type\":\"Rect\"},\"hover_glyph\":null,\"muted_glyph\":null},\"id\":\"4deb7f41-a9f6-4a34-9cee-0953fbe01178\",\"type\":\"GlyphRenderer\"},{\"attributes\":{\"data_source\":{\"id\":\"8aea5a92-9219-4d8f-84d5-aecc1e95844b\",\"type\":\"ColumnDataSource\"},\"glyph\":{\"id\":\"fc4cc52b-2ff6-4df2-aca4-13a0d5b0b30c\",\"type\":\"Rect\"},\"hover_glyph\":null,\"muted_glyph\":null},\"id\":\"e958bd3e-fac9-4b9e-b1d4-ce098b75fab1\",\"type\":\"GlyphRenderer\"},{\"attributes\":{\"fill_alpha\":{\"field\":\"fill_alpha\"},\"fill_color\":{\"field\":\"color\"},\"height\":{\"field\":\"height\",\"units\":\"data\"},\"line_color\":{\"field\":\"line_color\"},\"width\":{\"field\":\"width\",\"units\":\"data\"},\"x\":{\"field\":\"x\"},\"y\":{\"field\":\"y\"}},\"id\":\"fc4cc52b-2ff6-4df2-aca4-13a0d5b0b30c\",\"type\":\"Rect\"},{\"attributes\":{\"fill_alpha\":{\"field\":\"fill_alpha\"},\"fill_color\":{\"field\":\"color\"},\"height\":{\"field\":\"height\",\"units\":\"data\"},\"line_color\":{\"field\":\"line_color\"},\"width\":{\"field\":\"width\",\"units\":\"data\"},\"x\":{\"field\":\"x\"},\"y\":{\"field\":\"y\"}},\"id\":\"e1d0540a-a9e6-46c0-a2ea-94a2c242582a\",\"type\":\"Rect\"},{\"attributes\":{\"callback\":null,\"column_names\":[\"x\",\"y\",\"width\",\"height\",\"color\",\"fill_alpha\",\"line_color\",\"line_alpha\",\"label\"],\"data\":{\"chart_index\":[{\"class\":\"pro\",\"month\":\"2017-02-01\"}],\"class\":[\"pro\"],\"color\":[\"#4daf4a\"],\"fill_alpha\":[0.8],\"height\":[0.19117647058823528],\"label\":[{\"class\":\"pro\",\"month\":\"2017-02-01\"}],\"line_alpha\":[1.0],\"line_color\":[\"white\"],\"month\":[\"2017-02-01\"],\"width\":[0.8],\"x\":[\"2017-02-01\"],\"y\":[0.9044117647058824]}},\"id\":\"02f22a52-89c4-4faa-a597-9ff73a4677cb\",\"type\":\"ColumnDataSource\"},{\"attributes\":{\"data_source\":{\"id\":\"78983a04-b1a6-4902-a51b-3b2ed28563ca\",\"type\":\"ColumnDataSource\"},\"glyph\":{\"id\":\"e1d0540a-a9e6-46c0-a2ea-94a2c242582a\",\"type\":\"Rect\"},\"hover_glyph\":null,\"muted_glyph\":null},\"id\":\"4956506b-156b-4cbb-a5b4-9020513c9cbf\",\"type\":\"GlyphRenderer\"},{\"attributes\":{\"data_source\":{\"id\":\"32e62b0a-d364-4c00-a473-87884f0b5e61\",\"type\":\"ColumnDataSource\"},\"glyph\":{\"id\":\"74384d88-f5e0-4d0a-a8e5-bd31cac285f6\",\"type\":\"Rect\"},\"hover_glyph\":null,\"muted_glyph\":null},\"id\":\"5001b7b8-f058-4dbb-ab48-9ba25b38f998\",\"type\":\"GlyphRenderer\"},{\"attributes\":{\"fill_alpha\":{\"field\":\"fill_alpha\"},\"fill_color\":{\"field\":\"color\"},\"height\":{\"field\":\"height\",\"units\":\"data\"},\"line_color\":{\"field\":\"line_color\"},\"width\":{\"field\":\"width\",\"units\":\"data\"},\"x\":{\"field\":\"x\"},\"y\":{\"field\":\"y\"}},\"id\":\"95a80364-40fc-4405-9a0f-526c5fce3e33\",\"type\":\"Rect\"},{\"attributes\":{\"data_source\":{\"id\":\"0b117c0b-ae86-4802-93c7-0a5715236579\",\"type\":\"ColumnDataSource\"},\"glyph\":{\"id\":\"83428091-2c5a-4b2d-83cf-07ad126f5cc9\",\"type\":\"Rect\"},\"hover_glyph\":null,\"muted_glyph\":null},\"id\":\"ed0586da-c8af-4870-9843-01067f0ff4d1\",\"type\":\"GlyphRenderer\"},{\"attributes\":{\"data_source\":{\"id\":\"a499edb2-dc8c-440e-9ea8-ea8fb1364b8e\",\"type\":\"ColumnDataSource\"},\"glyph\":{\"id\":\"ea4bc5a6-72bb-4faf-99e5-6a364d05660d\",\"type\":\"Rect\"},\"hover_glyph\":null,\"muted_glyph\":null},\"id\":\"905ab176-8d51-4b26-9f3e-8d54a6c6818d\",\"type\":\"GlyphRenderer\"},{\"attributes\":{\"fill_alpha\":{\"field\":\"fill_alpha\"},\"fill_color\":{\"field\":\"color\"},\"height\":{\"field\":\"height\",\"units\":\"data\"},\"line_color\":{\"field\":\"line_color\"},\"width\":{\"field\":\"width\",\"units\":\"data\"},\"x\":{\"field\":\"x\"},\"y\":{\"field\":\"y\"}},\"id\":\"8f91c4a5-0dea-4fe3-b568-e84ae89295eb\",\"type\":\"Rect\"},{\"attributes\":{\"callback\":null,\"column_names\":[\"x\",\"y\",\"val\"],\"data\":{\"val\":[230,201,107,206,195,85,348,384,180,586,619,260,775,759,317,930,967,460,991,1206,544,531,589,263,554,675,267,191,222,90,195,245,104,340,464,193,236,430,193,307,460,190,262,367,162,134,241,81,96,114,49,68,93,40],\"x\":[\"2016-04-01\",\"2016-04-01\",\"2016-04-01\",\"2016-05-01\",\"2016-05-01\",\"2016-05-01\",\"2016-06-01\",\"2016-06-01\",\"2016-06-01\",\"2016-07-01\",\"2016-07-01\",\"2016-07-01\",\"2016-08-01\",\"2016-08-01\",\"2016-08-01\",\"2016-09-01\",\"2016-09-01\",\"2016-09-01\",\"2016-10-01\",\"2016-10-01\",\"2016-10-01\",\"2016-11-01\",\"2016-11-01\",\"2016-11-01\",\"2016-12-01\",\"2016-12-01\",\"2016-12-01\",\"2017-01-01\",\"2017-01-01\",\"2017-01-01\",\"2017-02-01\",\"2017-02-01\",\"2017-02-01\",\"2017-03-01\",\"2017-03-01\",\"2017-03-01\",\"2017-04-01\",\"2017-04-01\",\"2017-04-01\",\"2017-05-01\",\"2017-05-01\",\"2017-05-01\",\"2017-06-01\",\"2017-06-01\",\"2017-06-01\",\"2017-07-01\",\"2017-07-01\",\"2017-07-01\",\"2017-08-01\",\"2017-08-01\",\"2017-08-01\",\"2017-09-01\",\"2017-09-01\",\"2017-09-01\"],\"y\":[0.43,0.8,1.0,0.42,0.83,1.0,0.38,0.8,1.0,0.4,0.82,1.0,0.42,0.83,1.0,0.39,0.8,1.0,0.36,0.8,1.0,0.38,0.81,1.0,0.37,0.82,1.0,0.38,0.82,1.0,0.36,0.81,1.0,0.34,0.81,1.0,0.27,0.78,1.0,0.32,0.8,1.0,0.33,0.8,1.0,0.29,0.82,1.0,0.37,0.81,1.0,0.34,0.8,1.0]}},\"id\":\"6235c2ae-85cc-440c-b94f-1ec0d75ff5ef\",\"type\":\"ColumnDataSource\"},{\"attributes\":{\"callback\":null,\"column_names\":[\"x\",\"y\",\"width\",\"height\",\"color\",\"fill_alpha\",\"line_color\",\"line_alpha\",\"label\"],\"data\":{\"chart_index\":[{\"class\":\"det\",\"month\":\"2016-12-01\"}],\"class\":[\"det\"],\"color\":[\"#e41a1c\"],\"fill_alpha\":[0.8],\"height\":[0.37032085561497324],\"label\":[{\"class\":\"det\",\"month\":\"2016-12-01\"}],\"line_alpha\":[1.0],\"line_color\":[\"white\"],\"month\":[\"2016-12-01\"],\"width\":[0.8],\"x\":[\"2016-12-01\"],\"y\":[0.18516042780748662]}},\"id\":\"0b117c0b-ae86-4802-93c7-0a5715236579\",\"type\":\"ColumnDataSource\"},{\"attributes\":{\"fill_alpha\":{\"field\":\"fill_alpha\"},\"fill_color\":{\"field\":\"color\"},\"height\":{\"field\":\"height\",\"units\":\"data\"},\"line_color\":{\"field\":\"line_color\"},\"width\":{\"field\":\"width\",\"units\":\"data\"},\"x\":{\"field\":\"x\"},\"y\":{\"field\":\"y\"}},\"id\":\"231bea46-3294-4b65-93f9-06c8791a14bc\",\"type\":\"Rect\"},{\"attributes\":{\"fill_alpha\":{\"field\":\"fill_alpha\"},\"fill_color\":{\"field\":\"color\"},\"height\":{\"field\":\"height\",\"units\":\"data\"},\"line_color\":{\"field\":\"line_color\"},\"width\":{\"field\":\"width\",\"units\":\"data\"},\"x\":{\"field\":\"x\"},\"y\":{\"field\":\"y\"}},\"id\":\"dc7ca652-96d1-453b-9da7-c8f58190129c\",\"type\":\"Rect\"},{\"attributes\":{\"data_source\":{\"id\":\"29404adf-b034-4b89-9551-62b824fbe705\",\"type\":\"ColumnDataSource\"},\"glyph\":{\"id\":\"95a80364-40fc-4405-9a0f-526c5fce3e33\",\"type\":\"Rect\"},\"hover_glyph\":null,\"muted_glyph\":null},\"id\":\"ef4f8e25-a5ab-4f37-837f-0c1db0149448\",\"type\":\"GlyphRenderer\"},{\"attributes\":{\"fill_alpha\":{\"field\":\"fill_alpha\"},\"fill_color\":{\"field\":\"color\"},\"height\":{\"field\":\"height\",\"units\":\"data\"},\"line_color\":{\"field\":\"line_color\"},\"width\":{\"field\":\"width\",\"units\":\"data\"},\"x\":{\"field\":\"x\"},\"y\":{\"field\":\"y\"}},\"id\":\"769061d9-3776-42b3-9b8d-ccb7b5fb82f4\",\"type\":\"Rect\"},{\"attributes\":{\"fill_alpha\":{\"field\":\"fill_alpha\"},\"fill_color\":{\"field\":\"color\"},\"height\":{\"field\":\"height\",\"units\":\"data\"},\"line_color\":{\"field\":\"line_color\"},\"width\":{\"field\":\"width\",\"units\":\"data\"},\"x\":{\"field\":\"x\"},\"y\":{\"field\":\"y\"}},\"id\":\"9d3eefb0-af2e-43e7-92f3-e377bf7c7658\",\"type\":\"Rect\"},{\"attributes\":{\"data_source\":{\"id\":\"243d4704-16fe-4b59-95bf-b88b6223a50f\",\"type\":\"ColumnDataSource\"},\"glyph\":{\"id\":\"dc7ca652-96d1-453b-9da7-c8f58190129c\",\"type\":\"Rect\"},\"hover_glyph\":null,\"muted_glyph\":null},\"id\":\"fd51e1f0-eb9d-4388-9c4f-20720d7db873\",\"type\":\"GlyphRenderer\"},{\"attributes\":{\"data_source\":{\"id\":\"02f22a52-89c4-4faa-a597-9ff73a4677cb\",\"type\":\"ColumnDataSource\"},\"glyph\":{\"id\":\"8f91c4a5-0dea-4fe3-b568-e84ae89295eb\",\"type\":\"Rect\"},\"hover_glyph\":null,\"muted_glyph\":null},\"id\":\"383d803b-e420-4bdf-b433-f56052774b49\",\"type\":\"GlyphRenderer\"},{\"attributes\":{\"fill_alpha\":{\"field\":\"fill_alpha\"},\"fill_color\":{\"field\":\"color\"},\"height\":{\"field\":\"height\",\"units\":\"data\"},\"line_color\":{\"field\":\"line_color\"},\"width\":{\"field\":\"width\",\"units\":\"data\"},\"x\":{\"field\":\"x\"},\"y\":{\"field\":\"y\"}},\"id\":\"a1cdae1f-6dfe-473d-b8fc-9ff77fcd5d8c\",\"type\":\"Rect\"},{\"attributes\":{\"callback\":null,\"column_names\":[\"x\",\"y\",\"width\",\"height\",\"color\",\"fill_alpha\",\"line_color\",\"line_alpha\",\"label\"],\"data\":{\"chart_index\":[{\"class\":\"det\",\"month\":\"2017-08-01\"}],\"class\":[\"det\"],\"color\":[\"#e41a1c\"],\"fill_alpha\":[0.8],\"height\":[0.37065637065637064],\"label\":[{\"class\":\"det\",\"month\":\"2017-08-01\"}],\"line_alpha\":[1.0],\"line_color\":[\"white\"],\"month\":[\"2017-08-01\"],\"width\":[0.8],\"x\":[\"2017-08-01\"],\"y\":[0.18532818532818532]}},\"id\":\"29404adf-b034-4b89-9551-62b824fbe705\",\"type\":\"ColumnDataSource\"},{\"attributes\":{\"callback\":null,\"column_names\":[\"x\",\"y\",\"width\",\"height\",\"color\",\"fill_alpha\",\"line_color\",\"line_alpha\",\"label\"],\"data\":{\"chart_index\":[{\"class\":\"neu\",\"month\":\"2017-03-01\"}],\"class\":[\"neu\"],\"color\":[\"#377eb8\"],\"fill_alpha\":[0.8],\"height\":[0.4653961885656971],\"label\":[{\"class\":\"neu\",\"month\":\"2017-03-01\"}],\"line_alpha\":[1.0],\"line_color\":[\"white\"],\"month\":[\"2017-03-01\"],\"width\":[0.8],\"x\":[\"2017-03-01\"],\"y\":[0.5737211634904714]}},\"id\":\"c07abf2c-8931-4d9a-8b7f-86e3c30106b0\",\"type\":\"ColumnDataSource\"},{\"attributes\":{},\"id\":\"3740abce-cd65-495c-a11f-62d6a74f0ad8\",\"type\":\"CategoricalTicker\"},{\"attributes\":{\"callback\":null,\"column_names\":[\"x\",\"y\",\"width\",\"height\",\"color\",\"fill_alpha\",\"line_color\",\"line_alpha\",\"label\"],\"data\":{\"chart_index\":[{\"class\":\"det\",\"month\":\"2017-01-01\"}],\"class\":[\"det\"],\"color\":[\"#e41a1c\"],\"fill_alpha\":[0.8],\"height\":[0.3797216699801193],\"label\":[{\"class\":\"det\",\"month\":\"2017-01-01\"}],\"line_alpha\":[1.0],\"line_color\":[\"white\"],\"month\":[\"2017-01-01\"],\"width\":[0.8],\"x\":[\"2017-01-01\"],\"y\":[0.18986083499005965]}},\"id\":\"243d4704-16fe-4b59-95bf-b88b6223a50f\",\"type\":\"ColumnDataSource\"},{\"attributes\":{\"fill_alpha\":{\"field\":\"fill_alpha\"},\"fill_color\":{\"field\":\"color\"},\"height\":{\"field\":\"height\",\"units\":\"data\"},\"line_color\":{\"field\":\"line_color\"},\"width\":{\"field\":\"width\",\"units\":\"data\"},\"x\":{\"field\":\"x\"},\"y\":{\"field\":\"y\"}},\"id\":\"01ca623b-0692-4d66-8210-2d941d33141c\",\"type\":\"Rect\"},{\"attributes\":{\"data_source\":{\"id\":\"18013eba-2ae0-4ece-9e02-12d5ca0105d2\",\"type\":\"ColumnDataSource\"},\"glyph\":{\"id\":\"9d3eefb0-af2e-43e7-92f3-e377bf7c7658\",\"type\":\"Rect\"},\"hover_glyph\":null,\"muted_glyph\":null},\"id\":\"03c8bd02-f330-40b1-9be8-8db6d2d0609f\",\"type\":\"GlyphRenderer\"},{\"attributes\":{\"callback\":null,\"column_names\":[\"x\",\"y\",\"width\",\"height\",\"color\",\"fill_alpha\",\"line_color\",\"line_alpha\",\"label\"],\"data\":{\"chart_index\":[{\"class\":\"det\",\"month\":\"2016-07-01\"}],\"class\":[\"det\"],\"color\":[\"#e41a1c\"],\"fill_alpha\":[0.8],\"height\":[0.4],\"label\":[{\"class\":\"det\",\"month\":\"2016-07-01\"}],\"line_alpha\":[1.0],\"line_color\":[\"white\"],\"month\":[\"2016-07-01\"],\"width\":[0.8],\"x\":[\"2016-07-01\"],\"y\":[0.2]}},\"id\":\"c568e3fb-f0fe-41c6-8cba-5b05d3c0d032\",\"type\":\"ColumnDataSource\"},{\"attributes\":{\"data_source\":{\"id\":\"643753e4-293e-44b7-9a5e-5f6f7887c425\",\"type\":\"ColumnDataSource\"},\"glyph\":{\"id\":\"769061d9-3776-42b3-9b8d-ccb7b5fb82f4\",\"type\":\"Rect\"},\"hover_glyph\":null,\"muted_glyph\":null},\"id\":\"d38ea20f-586c-4e25-ac65-d6a011b70a93\",\"type\":\"GlyphRenderer\"},{\"attributes\":{\"line_width\":{\"value\":2},\"x\":{\"field\":\"x\"},\"y\":{\"field\":\"y\"}},\"id\":\"a1942142-f085-490b-8e72-021e3ae6e466\",\"type\":\"Line\"},{\"attributes\":{\"fill_alpha\":{\"field\":\"fill_alpha\"},\"fill_color\":{\"field\":\"color\"},\"height\":{\"field\":\"height\",\"units\":\"data\"},\"line_color\":{\"field\":\"line_color\"},\"width\":{\"field\":\"width\",\"units\":\"data\"},\"x\":{\"field\":\"x\"},\"y\":{\"field\":\"y\"}},\"id\":\"ea4bc5a6-72bb-4faf-99e5-6a364d05660d\",\"type\":\"Rect\"},{\"attributes\":{\"callback\":null,\"column_names\":[\"x\",\"y\",\"width\",\"height\",\"color\",\"fill_alpha\",\"line_color\",\"line_alpha\",\"label\"],\"data\":{\"chart_index\":[{\"class\":\"det\",\"month\":\"2016-09-01\"}],\"class\":[\"det\"],\"color\":[\"#e41a1c\"],\"fill_alpha\":[0.8],\"height\":[0.3945693678404752],\"label\":[{\"class\":\"det\",\"month\":\"2016-09-01\"}],\"line_alpha\":[1.0],\"line_color\":[\"white\"],\"month\":[\"2016-09-01\"],\"width\":[0.8],\"x\":[\"2016-09-01\"],\"y\":[0.1972846839202376]}},\"id\":\"5cf254f8-82f2-4830-a033-3fb6321194ff\",\"type\":\"ColumnDataSource\"},{\"attributes\":{\"callback\":null,\"column_names\":[\"x\",\"y\",\"width\",\"height\",\"color\",\"fill_alpha\",\"line_color\",\"line_alpha\",\"label\"],\"data\":{\"chart_index\":[{\"class\":\"det\",\"month\":\"2016-10-01\"}],\"class\":[\"det\"],\"color\":[\"#e41a1c\"],\"fill_alpha\":[0.8],\"height\":[0.3615468807004743],\"label\":[{\"class\":\"det\",\"month\":\"2016-10-01\"}],\"line_alpha\":[1.0],\"line_color\":[\"white\"],\"month\":[\"2016-10-01\"],\"width\":[0.8],\"x\":[\"2016-10-01\"],\"y\":[0.18077344035023715]}},\"id\":\"643753e4-293e-44b7-9a5e-5f6f7887c425\",\"type\":\"ColumnDataSource\"},{\"attributes\":{\"data_source\":{\"id\":\"0d9cd5aa-0195-44a6-93d4-7a0e3deab0fe\",\"type\":\"ColumnDataSource\"},\"glyph\":{\"id\":\"a1cdae1f-6dfe-473d-b8fc-9ff77fcd5d8c\",\"type\":\"Rect\"},\"hover_glyph\":null,\"muted_glyph\":null},\"id\":\"c122aa6b-5e9e-4eba-9433-3489f298be8c\",\"type\":\"GlyphRenderer\"},{\"attributes\":{\"data_source\":{\"id\":\"8ea074c9-923a-44c5-bf76-93c1473f50ea\",\"type\":\"ColumnDataSource\"},\"glyph\":{\"id\":\"231bea46-3294-4b65-93f9-06c8791a14bc\",\"type\":\"Rect\"},\"hover_glyph\":null,\"muted_glyph\":null},\"id\":\"8c017e10-45a0-42a2-a4d0-91738cfd1288\",\"type\":\"GlyphRenderer\"},{\"attributes\":{\"callback\":null,\"column_names\":[\"x\",\"y\",\"width\",\"height\",\"color\",\"fill_alpha\",\"line_color\",\"line_alpha\",\"label\"],\"data\":{\"chart_index\":[{\"class\":\"det\",\"month\":\"2016-08-01\"}],\"class\":[\"det\"],\"color\":[\"#e41a1c\"],\"fill_alpha\":[0.8],\"height\":[0.41869259859535385],\"label\":[{\"class\":\"det\",\"month\":\"2016-08-01\"}],\"line_alpha\":[1.0],\"line_color\":[\"white\"],\"month\":[\"2016-08-01\"],\"width\":[0.8],\"x\":[\"2016-08-01\"],\"y\":[0.20934629929767692]}},\"id\":\"f0b49e42-f6f1-47c6-92af-914483e1da16\",\"type\":\"ColumnDataSource\"},{\"attributes\":{\"fill_alpha\":{\"field\":\"fill_alpha\"},\"fill_color\":{\"field\":\"color\"},\"height\":{\"field\":\"height\",\"units\":\"data\"},\"line_color\":{\"field\":\"line_color\"},\"width\":{\"field\":\"width\",\"units\":\"data\"},\"x\":{\"field\":\"x\"},\"y\":{\"field\":\"y\"}},\"id\":\"66d74521-e26f-4ec4-a089-c9eac5459e5e\",\"type\":\"Rect\"},{\"attributes\":{\"callback\":null,\"column_names\":[\"x\",\"y\",\"width\",\"height\",\"color\",\"fill_alpha\",\"line_color\",\"line_alpha\",\"label\"],\"data\":{\"chart_index\":[{\"class\":\"det\",\"month\":\"2017-03-01\"}],\"class\":[\"det\"],\"color\":[\"#e41a1c\"],\"fill_alpha\":[0.8],\"height\":[0.3410230692076229],\"label\":[{\"class\":\"det\",\"month\":\"2017-03-01\"}],\"line_alpha\":[1.0],\"line_color\":[\"white\"],\"month\":[\"2017-03-01\"],\"width\":[0.8],\"x\":[\"2017-03-01\"],\"y\":[0.17051153460381144]}},\"id\":\"fe4e0980-a20a-465b-8c8b-822069dcfedd\",\"type\":\"ColumnDataSource\"},{\"attributes\":{\"data_source\":{\"id\":\"fe4e0980-a20a-465b-8c8b-822069dcfedd\",\"type\":\"ColumnDataSource\"},\"glyph\":{\"id\":\"1f354e29-27f3-4ee7-ae88-cc326e4a339d\",\"type\":\"Rect\"},\"hover_glyph\":null,\"muted_glyph\":null},\"id\":\"d58d159d-0b12-4e85-b30d-f637a36edcd8\",\"type\":\"GlyphRenderer\"},{\"attributes\":{\"data_source\":{\"id\":\"8aec5287-085c-4aa1-8069-c853c0018fdf\",\"type\":\"ColumnDataSource\"},\"glyph\":{\"id\":\"14d88f2b-ada4-433f-9fc7-42de4ae6261a\",\"type\":\"Rect\"},\"hover_glyph\":null,\"muted_glyph\":null},\"id\":\"69d3f9fc-b5dc-43cc-9f41-86683bd5b024\",\"type\":\"GlyphRenderer\"},{\"attributes\":{\"data_source\":{\"id\":\"68f6fd11-acd2-4253-938c-71bca59002e5\",\"type\":\"ColumnDataSource\"},\"glyph\":{\"id\":\"01ca623b-0692-4d66-8210-2d941d33141c\",\"type\":\"Rect\"},\"hover_glyph\":null,\"muted_glyph\":null},\"id\":\"2f00bb81-08fe-437f-8918-d0f2d5f22de0\",\"type\":\"GlyphRenderer\"}],\"root_ids\":[\"d9d39ba2-ff94-42ae-a3b6-f000d257d52d\"]},\"title\":\"Bokeh Application\",\"version\":\"0.12.6\"}};\n",
       "            var render_items = [{\"docid\":\"49e41a66-dde0-4fc1-964e-b5341063b9cb\",\"elementid\":\"c744598b-a8b0-4c47-923b-7de303f769b2\",\"modelid\":\"d9d39ba2-ff94-42ae-a3b6-f000d257d52d\",\"notebook_comms_target\":\"ca9804f0-805a-493c-836a-a522c455781b\"}];\n",
       "            \n",
       "            Bokeh.embed.embed_items(docs_json, render_items);\n",
       "          };\n",
       "          if (document.readyState != \"loading\") fn();\n",
       "          else document.addEventListener(\"DOMContentLoaded\", fn);\n",
       "        })();\n",
       "      },\n",
       "      function(Bokeh) {\n",
       "      }\n",
       "    ];\n",
       "  \n",
       "    function run_inline_js() {\n",
       "      \n",
       "      if ((window.Bokeh !== undefined) || (force === true)) {\n",
       "        for (var i = 0; i < inline_js.length; i++) {\n",
       "          inline_js[i](window.Bokeh);\n",
       "        }if (force === true) {\n",
       "          display_loaded();\n",
       "        }} else if (Date.now() < window._bokeh_timeout) {\n",
       "        setTimeout(run_inline_js, 100);\n",
       "      } else if (!window._bokeh_failed_load) {\n",
       "        console.log(\"Bokeh: BokehJS failed to load within specified timeout.\");\n",
       "        window._bokeh_failed_load = true;\n",
       "      } else if (force !== true) {\n",
       "        var cell = $(document.getElementById(\"c744598b-a8b0-4c47-923b-7de303f769b2\")).parents('.cell').data().cell;\n",
       "        cell.output_area.append_execute_result(NB_LOAD_WARNING)\n",
       "      }\n",
       "  \n",
       "    }\n",
       "  \n",
       "    if (window._bokeh_is_loading === 0) {\n",
       "      console.log(\"Bokeh: BokehJS loaded, going straight to plotting\");\n",
       "      run_inline_js();\n",
       "    } else {\n",
       "      load_libs(js_urls, function() {\n",
       "        console.log(\"Bokeh: BokehJS plotting callback run at\", now());\n",
       "        run_inline_js();\n",
       "      });\n",
       "    }\n",
       "  }(this));\n",
       "</script>"
      ]
     },
     "metadata": {},
     "output_type": "display_data"
    },
    {
     "data": {
      "text/html": [
       "<p><code>&lt;Bokeh Notebook handle for <strong>In[26]</strong>&gt;</code></p>"
      ],
      "text/plain": [
       "<bokeh.io._CommsHandle at 0x2096cfe7f60>"
      ]
     },
     "execution_count": 26,
     "metadata": {},
     "output_type": "execute_result"
    }
   ],
   "source": [
    "output_notebook()\n",
    "#source = ColumnDataSource(dict(x=df_spread['month'].tolist(), y=df_spread['nps'].tolist()))\n",
    "source2 = ColumnDataSource(dict(x=df_gather['month'].tolist(), \n",
    "                               y=df_gather['cumper'].tolist(),\n",
    "                               val=df_gather['num'].tolist()))\n",
    "p = Bar(df_gather, label='month', values='per', agg='mean', stack='class',\n",
    "        title=\"NPS BY MONTH\", legend='top_right', ylabel='percent', color=brewer['Set1'][3])\n",
    "p.yaxis[0].formatter = NumeralTickFormatter(format=\"0.0%\")\n",
    "p.extra_y_ranges = {\"percent\": Range1d(start=-30, end=0)}\n",
    "p.line(x=df_spread['month'] ,y=df_spread['nps'], color=\"black\", y_range_name=\"percent\", line_width=2)\n",
    "p.circle(df_spread['month'], df_spread['nps'], fill_color=\"black\", y_range_name=\"percent\", size=8)\n",
    "labels = LabelSet(x='x', y='y', text='val', \n",
    "                  level='glyph', \n",
    "                  x_offset=-10, y_offset=-20, \n",
    "                  text_font_size='10pt',\n",
    "                  text_font_style='bold',\n",
    "                  text_color='white',\n",
    "                  source=source2, \n",
    "                  render_mode='canvas')\n",
    "p.add_layout(labels)\n",
    "p.add_layout(LinearAxis(y_range_name=\"percent\"), 'right')\n",
    "p.yaxis[0].formatter = NumeralTickFormatter(format=\"0.0%\")\n",
    "p.legend.location = \"bottom_right\"\n",
    "show(p, notebook_handle=True)"
   ]
  },
  {
   "cell_type": "markdown",
   "metadata": {},
   "source": [
    "![NPS EXAMPLE](NPS.png)"
   ]
  }
 ],
 "metadata": {
  "kernelspec": {
   "display_name": "Python 3",
   "language": "python",
   "name": "python3"
  },
  "language_info": {
   "codemirror_mode": {
    "name": "ipython",
    "version": 3
   },
   "file_extension": ".py",
   "mimetype": "text/x-python",
   "name": "python",
   "nbconvert_exporter": "python",
   "pygments_lexer": "ipython3",
   "version": "3.6.2"
  }
 },
 "nbformat": 4,
 "nbformat_minor": 2
}
